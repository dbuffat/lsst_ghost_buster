{
 "cells": [
  {
   "cell_type": "code",
   "execution_count": null,
   "id": "620f37b5-4a78-4b89-bff6-a575760063df",
   "metadata": {
    "editable": true,
    "slideshow": {
     "slide_type": ""
    },
    "tags": []
   },
   "outputs": [],
   "source": [
    "import pylab as plt\n",
    "import lsst.afw.display as afwDisplay\n",
    "from lsst.geom import Point2D"
   ]
  },
  {
   "cell_type": "code",
   "execution_count": null,
   "id": "aeba9493-3c72-4e21-8c41-6c46602bd145",
   "metadata": {
    "editable": true,
    "slideshow": {
     "slide_type": ""
    },
    "tags": []
   },
   "outputs": [],
   "source": [
    "def displayExposure(exposure,title=None):\n",
    "    afwDisplay.setDefaultBackend('matplotlib') \n",
    "    afwDisplay.setImageColormap(cmap='gray')\n",
    "    fig = plt.figure(figsize=(10,10))\n",
    "    afw_display = afwDisplay.Display(1)\n",
    "    afw_display.scale('asinh', 'zscale')\n",
    "    afw_display.mtv(exposure.getImage())\n",
    "    plt.title(title)\n",
    "    plt.gca().axis('off')\n",
    "    return afw_display\n",
    "\n",
    "def displayImage(image,title=None):\n",
    "    afwDisplay.setDefaultBackend('matplotlib') \n",
    "    fig = plt.figure(figsize=(10,10))\n",
    "    afw_display = afwDisplay.Display(1)\n",
    "    afw_display.scale('asinh', 'zscale')\n",
    "    #afw_display.scale('linear', min=-5, max=10)\n",
    "    afw_display.setImageColormap(cmap='plasma')\n",
    "    afw_display.mtv(image)\n",
    "    plt.title(title)\n",
    "    plt.gca().axis('off')\n",
    "    return afw_display\n",
    "    \n",
    "def displayImageGhosts(image, zmin=0, zmax=5000, title=None):\n",
    "    afwDisplay.setDefaultBackend('matplotlib') \n",
    "    fig = plt.figure(figsize=(10,10))\n",
    "    afw_display = afwDisplay.Display(1)\n",
    "    #afw_display.scale('asinh', 'zscale')\n",
    "    afw_display.scale('linear', min=zmin, max=zmax)\n",
    "    afw_display.setImageColormap(cmap='plasma')\n",
    "    afw_display.mtv(image)\n",
    "    plt.title(title)\n",
    "    plt.gca().axis('off')\n",
    "    return afw_display    "
   ]
  },
  {
   "cell_type": "raw",
   "id": "ec9be49e-d5e4-4406-95d5-03d147ede063",
   "metadata": {
    "execution": {
     "iopub.execute_input": "2025-07-04T08:05:43.788533Z",
     "iopub.status.busy": "2025-07-04T08:05:43.788119Z",
     "iopub.status.idle": "2025-07-04T08:05:48.284083Z",
     "shell.execute_reply": "2025-07-04T08:05:48.283443Z",
     "shell.execute_reply.started": "2025-07-04T08:05:43.788506Z"
    }
   },
   "source": [
    "repo = '/repo/main'\n",
    "butler = Butler(repo)\n",
    "\n",
    "collections = [c for c in butler.registry.queryCollections() if 'LSSTComCam/' in c]\n",
    "for collection in collections:\n",
    "    print(collection)"
   ]
  },
  {
   "cell_type": "code",
   "execution_count": null,
   "id": "77e49928-fd2d-4c16-9a7d-b79c75e0a3f7",
   "metadata": {},
   "outputs": [],
   "source": [
    "# Define butler\n",
    "from lsst.daf.butler import Butler\n",
    "butler = Butler('/repo/main', collections=['LSSTComCam'])\n"
   ]
  },
  {
   "cell_type": "code",
   "execution_count": null,
   "id": "e169b15c-351a-4ac7-a8df-b9d893cbab89",
   "metadata": {},
   "outputs": [],
   "source": [
    "def getCentralWcs(expo=\"2024102400128\"):\n",
    "    calexp_refs = butler.query_datasets(\"preliminary_visit_image\", where=f\"instrument='LSSTComCam' AND exposure={expo}\")\n",
    "    return butler.get(calexp_refs[4]).getWcs()\n",
    "\n",
    "def getStarWcs(expo=\"2024102400128\"):\n",
    "    calexp_refs = butler.query_datasets(\"preliminary_visit_image\", where=f\"instrument='LSSTComCam' AND exposure={expo}\")\n",
    "    return butler.get(calexp_refs[3]).getWcs()\n",
    "\n",
    "def getAllWcs(expo=\"2024102400128\"):\n",
    "    calexp_refs = butler.query_datasets(\"preliminary_visit_image\", where=f\"instrument='LSSTComCam' AND exposure={expo}\")\n",
    "    wcs_list = [butler.get(calexp_refs[i]).getWcs() for i in range(9)]\n",
    "    return wcs_list\n",
    "\n",
    "def queryExposures(expo=\"2024102400128\"):\n",
    "    dataset_refs = butler.query_datasets(\"post_isr_image\", where=f\"instrument='LSSTComCam' AND exposure={expo}\")\n",
    "    exposures = [butler.get(dataset_ref) for dataset_ref in dataset_refs]\n",
    "    return exposures\n",
    "\n",
    "def make_mosaic(exposures, binning=4):\n",
    "    from lsst.pipe.tasks.visualizeVisit import (\n",
    "        VisualizeBinExpConfig,\n",
    "        VisualizeBinExpTask,\n",
    "        VisualizeMosaicExpConfig,\n",
    "        VisualizeMosaicExpTask,\n",
    "    )\n",
    "    camera = butler.get(\"camera\", collections=\"LSSTComCam/defaults\", instrument=\"LSSTComCam\")\n",
    "    \n",
    "    visualizeBinExpConfig = VisualizeBinExpConfig()\n",
    "    visualizeBinExpConfig.binning = binning\n",
    "    visualizeBinExpTask = VisualizeBinExpTask(config=visualizeBinExpConfig)\n",
    "    exposures_binned = [visualizeBinExpTask.run(inputExp = exposure, camera=camera).outputExp for exposure in exposures]\n",
    "    \n",
    "    visualizeMosaicExpConfig = VisualizeMosaicExpConfig()\n",
    "    visualizeMosaicExpConfig.binning = binning\n",
    "    visualizeMosaicExpTask = VisualizeMosaicExpTask(config=visualizeMosaicExpConfig)\n",
    "    \n",
    "    mosaic_full = visualizeMosaicExpTask.run(inputExps=exposures_binned, camera=camera)\n",
    "    mosaic = mosaic_full.outputData\n",
    "    return mosaic\n",
    "\n",
    "def show_ghosts(exp_id=\"2024102400126\", binning=4, zmin=2230, zmax=2330):\n",
    "    expos = queryExposures(exp_id)\n",
    "    mosaic = make_mosaic(expos, binning)\n",
    "    displayImageGhosts(mosaic, zmin=zmin, zmax=zmax)\n",
    "    return mosaic, expos"
   ]
  },
  {
   "cell_type": "code",
   "execution_count": null,
   "id": "d2ceeaf2-8534-444d-9975-6d275940e6f6",
   "metadata": {},
   "outputs": [],
   "source": [
    "from lsst.daf.butler import Butler\n",
    "from lsst.pipe.tasks.visualizeVisit import (\n",
    "    VisualizeBinExpConfig,\n",
    "    VisualizeBinExpTask,\n",
    "    VisualizeMosaicExpConfig,\n",
    "    VisualizeMosaicExpTask,\n",
    ")\n",
    "\n",
    "butler = Butler.from_config(\"/repo/main\")\n",
    "\n",
    "\n",
    "def make_mosaic(exposures, binning=4):\n",
    "    visualizeBinExpConfig = VisualizeBinExpConfig()\n",
    "    visualizeBinExpConfig.binning = binning\n",
    "    visualizeBinExpTask = VisualizeBinExpTask(config=visualizeBinExpConfig)\n",
    "\n",
    "    camera = butler.get(\"camera\", collections=\"LSSTComCam/DP1\", instrument=\"LSSTComCam\")\n",
    "    exposures_binned = [visualizeBinExpTask.run(exposure, camera).outputExp for exposure in exposures]\n",
    "\n",
    "    visualizeMosaicExpConfig = VisualizeMosaicExpConfig()\n",
    "    visualizeMosaicExpConfig.binning = binning\n",
    "    visualizeMosaicExpTask = VisualizeMosaicExpTask(config=visualizeMosaicExpConfig)\n",
    "\n",
    "    mosaic_full = visualizeMosaicExpTask.run(inputExps=exposures_binned, camera=camera)\n",
    "    mosaic = mosaic_full.outputData\n",
    "    return mosaic\n",
    "\n",
    "\n",
    "def show_ghosts(exp_id=2024112600112, binning=4, zmin=645, zmax=689):\n",
    "    exposure_refs = butler.query_datasets(\n",
    "        \"post_isr_image\",\n",
    "        collections=\"LSSTComCam/nightlyValidation\",\n",
    "        find_first=False,\n",
    "        where=f\"instrument='LSSTComCam' AND exposure={exp_id}\",\n",
    "    )\n",
    "    exposures = [butler.get(exposure_ref) for exposure_ref in exposure_refs]\n",
    "    mosaic = make_mosaic(exposures, binning)\n",
    "    displayImageGhosts(mosaic, zmin=zmin, zmax=zmax)\n",
    "    return mosaic, exposures"
   ]
  },
  {
   "cell_type": "code",
   "execution_count": null,
   "id": "7eacae29-99eb-4c0d-b3f3-aa33bbb28443",
   "metadata": {},
   "outputs": [],
   "source": [
    "expos = \"2024102400126\""
   ]
  },
  {
   "cell_type": "code",
   "execution_count": null,
   "id": "b8ec9573-8303-4ab8-8c78-218c7e09ecdc",
   "metadata": {},
   "outputs": [],
   "source": [
    "mosaic = show_ghosts(exp_id=\"2024102400126\", binning=1, zmin=2230, zmax=2330)"
   ]
  },
  {
   "cell_type": "code",
   "execution_count": null,
   "id": "244cf102-7a4f-4bfd-8bdc-3294c949e9f2",
   "metadata": {},
   "outputs": [],
   "source": [
    "displayImageGhosts(mosaic, zmin=820, zmax=900)"
   ]
  },
  {
   "cell_type": "code",
   "execution_count": null,
   "id": "4676eef6-c1dc-4a0d-ab37-11c8e444ad56",
   "metadata": {},
   "outputs": [],
   "source": [
    "mosaic[0].writeFits(f\"{expos}.fits\", mosaic[1][0].getMetadata(), \"w\")"
   ]
  },
  {
   "cell_type": "code",
   "execution_count": null,
   "id": "1e7d0566-6efc-4bd6-ae29-ac5e451e5149",
   "metadata": {},
   "outputs": [],
   "source": [
    "mosaic[0].getDimensions()"
   ]
  },
  {
   "cell_type": "markdown",
   "id": "52b85866-dd7d-4d07-b070-011091929127",
   "metadata": {},
   "source": [
    "# PostISR are delete from Butler"
   ]
  },
  {
   "cell_type": "code",
   "execution_count": null,
   "id": "2b6c1b08-2d82-4373-8b67-17d9bf02c19e",
   "metadata": {},
   "outputs": [],
   "source": []
  }
 ],
 "metadata": {
  "kernelspec": {
   "display_name": "lsst_distrib",
   "language": "python",
   "name": "lsst_distrib"
  },
  "language_info": {
   "codemirror_mode": {
    "name": "ipython",
    "version": 3
   },
   "file_extension": ".py",
   "mimetype": "text/x-python",
   "name": "python",
   "nbconvert_exporter": "python",
   "pygments_lexer": "ipython3",
   "version": "3.12.11"
  }
 },
 "nbformat": 4,
 "nbformat_minor": 5
}
