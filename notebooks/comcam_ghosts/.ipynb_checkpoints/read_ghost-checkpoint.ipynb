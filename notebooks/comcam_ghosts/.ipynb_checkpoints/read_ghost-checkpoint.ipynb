{
 "cells": [
  {
   "cell_type": "code",
   "execution_count": null,
   "id": "5a577175-0632-40e0-9081-bdbab2983988",
   "metadata": {
    "editable": true,
    "slideshow": {
     "slide_type": ""
    },
    "tags": []
   },
   "outputs": [],
   "source": [
    "import pylab as plt\n",
    "import lsst.afw.display as afwDisplay\n",
    "import lsst.afw.image as afwimage\n",
    "import lsst.afw.fits as afwfits"
   ]
  },
  {
   "cell_type": "code",
   "execution_count": null,
   "id": "fb2cc595-b631-4cfa-bb44-3ad1644764ae",
   "metadata": {},
   "outputs": [],
   "source": [
    "def displayExposure(exposure,title=None):\n",
    "    afwDisplay.setDefaultBackend('matplotlib') \n",
    "    afw_display.setImageColormap(cmap='gray')\n",
    "    fig = plt.figure(figsize=(10,10))\n",
    "    afw_display = afwDisplay.Display(1)\n",
    "    afw_display.scale('asinh', 'zscale')\n",
    "    afw_display.mtv(exposure.getImage())\n",
    "    plt.title(title)\n",
    "    plt.gca().axis('off')\n",
    "    return afw_display\n",
    "\n",
    "def displayImage(image,title=None):\n",
    "    afwDisplay.setDefaultBackend('matplotlib') \n",
    "    fig = plt.figure(figsize=(10,10))\n",
    "    afw_display = afwDisplay.Display(1)\n",
    "    afw_display.scale('asinh', 'zscale')\n",
    "    #afw_display.scale('linear', min=-5, max=10)\n",
    "    afw_display.setImageColormap(cmap='plasma')\n",
    "    afw_display.mtv(image)\n",
    "    plt.title(title)\n",
    "    plt.gca().axis('off')\n",
    "    return afw_display\n",
    "    \n",
    "def displayImageGhosts(image, zmin=0, zmax=5000, title=None):\n",
    "    afwDisplay.setDefaultBackend('matplotlib') \n",
    "    fig = plt.figure(figsize=(10,10))\n",
    "    afw_display = afwDisplay.Display(1)\n",
    "    #afw_display.scale('asinh', 'zscale')\n",
    "    afw_display.scale('linear', min=zmin, max=zmax)\n",
    "    afw_display.setImageColormap(cmap='plasma')\n",
    "    afw_display.mtv(image)\n",
    "    plt.title(title)\n",
    "    plt.gca().axis('off')\n",
    "    return afw_display    "
   ]
  },
  {
   "cell_type": "code",
   "execution_count": null,
   "id": "28666766-ec6e-4d7b-b5c7-3438ef593e47",
   "metadata": {},
   "outputs": [],
   "source": [
    "ghost_292=afwimage.ImageF.readFits(\"ghost_292.fits\", 0)\n",
    "ghost_292.getDimensions()"
   ]
  },
  {
   "cell_type": "code",
   "execution_count": null,
   "id": "99e984cb-0a64-4a83-a6f7-68777e823501",
   "metadata": {},
   "outputs": [],
   "source": [
    "a=ghost_292.getArray()"
   ]
  },
  {
   "cell_type": "code",
   "execution_count": null,
   "id": "7e2cc657-fc89-462d-8c1b-301c04e337c4",
   "metadata": {},
   "outputs": [],
   "source": [
    "a.shape"
   ]
  },
  {
   "cell_type": "code",
   "execution_count": null,
   "id": "32fd8f19-6388-42db-9037-b51b880f8f0a",
   "metadata": {},
   "outputs": [],
   "source": [
    "displayImageGhosts(ghost_292,zmin=950, zmax=1000)"
   ]
  },
  {
   "cell_type": "code",
   "execution_count": null,
   "id": "1973495c-1cfd-4dfb-9cf3-6d10ef87a184",
   "metadata": {},
   "outputs": [],
   "source": [
    "md_292=afwfits.readMetadata(\"ghost_292.fits\")"
   ]
  },
  {
   "cell_type": "code",
   "execution_count": null,
   "id": "80020b4c-9a1b-4621-9c4e-80cf607581bd",
   "metadata": {},
   "outputs": [],
   "source": [
    "md_292[\"RA\"], md_292[\"DEC\"], md_292[\"ROTPA\"], md_292[\"DATE\"], md_292[\"MJD\"], md_292[\"OBSID\"]"
   ]
  },
  {
   "cell_type": "code",
   "execution_count": null,
   "id": "066b021a-d4e7-487f-abd2-203406bc0885",
   "metadata": {},
   "outputs": [],
   "source": []
  }
 ],
 "metadata": {
  "kernelspec": {
   "display_name": "lsst_distrib",
   "language": "python",
   "name": "lsst_distrib"
  },
  "language_info": {
   "codemirror_mode": {
    "name": "ipython",
    "version": 3
   },
   "file_extension": ".py",
   "mimetype": "text/x-python",
   "name": "python",
   "nbconvert_exporter": "python",
   "pygments_lexer": "ipython3",
   "version": "3.12.11"
  }
 },
 "nbformat": 4,
 "nbformat_minor": 5
}
