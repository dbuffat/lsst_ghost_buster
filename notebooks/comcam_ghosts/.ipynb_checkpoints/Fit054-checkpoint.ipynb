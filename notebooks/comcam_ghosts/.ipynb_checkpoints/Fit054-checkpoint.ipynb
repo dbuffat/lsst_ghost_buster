{
 "cells": [
  {
   "cell_type": "markdown",
   "id": "976dbcbb-6d31-4e10-a3a0-db229a9dfa96",
   "metadata": {},
   "source": [
    "# Fit on ComCam's : ghost 054"
   ]
  },
  {
   "cell_type": "code",
   "execution_count": null,
   "id": "24ea8ab1-fd99-450a-8151-0dcbf582e593",
   "metadata": {},
   "outputs": [],
   "source": [
    "import sys\n",
    "import os\n",
    "sys.path.insert(0, os.path.abspath('../../src'))\n",
    "os.environ[\"OMP_NUM_THREADS\"] = \"8\" # export OMP_NUM_THREADS=8"
   ]
  },
  {
   "cell_type": "code",
   "execution_count": null,
   "id": "791d2647-0b12-4d3e-807f-3ea705d93d80",
   "metadata": {},
   "outputs": [],
   "source": [
    "from ghost_buster import display_image as display\n",
    "from ghost_buster import sources_image as sim\n",
    "from ghost_buster import ghosts_fit as gfit\n",
    "from ghost_buster import ghosts_simu as gsim"
   ]
  },
  {
   "cell_type": "code",
   "execution_count": null,
   "id": "05ef73be-6a8e-4453-823f-b762292f9aea",
   "metadata": {},
   "outputs": [],
   "source": [
    "import pylab as plt\n",
    "import numpy as np\n",
    "import lsst.afw.display as afwDisplay\n",
    "import lsst.afw.image as afwimage\n",
    "import lsst.afw.fits as afwfits"
   ]
  },
  {
   "cell_type": "code",
   "execution_count": null,
   "id": "39044302-da7c-4d26-984e-30d37e764503",
   "metadata": {},
   "outputs": [],
   "source": [
    "ghost_054=afwimage.ImageF.readFits(\"ghost_054.fits\", 0)"
   ]
  },
  {
   "cell_type": "markdown",
   "id": "059a4a12-4f76-41b2-927a-e7520489a04b",
   "metadata": {},
   "source": [
    "## Some different view for the same image"
   ]
  },
  {
   "cell_type": "code",
   "execution_count": null,
   "id": "82c9b2d7-0895-4ac0-9bae-2ed26c22ac61",
   "metadata": {},
   "outputs": [],
   "source": [
    "display.displayImage(ghost_054, title=\"2024112900054\")\n",
    "display.displayImageGhosts(ghost_054, zmin=1300, zmax=1500, title=\"2024112900054\")\n",
    "display.displayImageGhostsBW(ghost_054, title=\"2024112900054\")"
   ]
  },
  {
   "cell_type": "markdown",
   "id": "f26bf70b-52cb-453d-9739-816ee4f81a4d",
   "metadata": {},
   "source": [
    "# Analysis"
   ]
  },
  {
   "cell_type": "code",
   "execution_count": null,
   "id": "a9055aec-f5ed-4305-8387-79ad60657afb",
   "metadata": {},
   "outputs": [],
   "source": [
    "real = ghost_054.getArray()"
   ]
  },
  {
   "cell_type": "code",
   "execution_count": null,
   "id": "c7a9369d-757c-4a5c-8db9-3d072de5dcda",
   "metadata": {},
   "outputs": [],
   "source": [
    "display.displayImageGhostsFlux(real, minflux=1300, maxflux=1500)\n",
    "display.displayReal(real)"
   ]
  },
  {
   "cell_type": "code",
   "execution_count": null,
   "id": "30580ffd-490a-46d0-844b-bb54d82d22a2",
   "metadata": {},
   "outputs": [],
   "source": [
    "md_054=afwfits.readMetadata(\"ghost_292_verylow.fits\")\n",
    "md_054[\"RA\"], md_054[\"DEC\"], md_054[\"ROTPA\"], md_054[\"FILTBAND\"]"
   ]
  },
  {
   "cell_type": "code",
   "execution_count": null,
   "id": "22c109cb-71e4-4f14-b653-f27162341a7a",
   "metadata": {},
   "outputs": [],
   "source": [
    "rm_src = sim.removeSources(real)\n",
    "display.displayRemoveSources(real, rm_src)\n",
    "real.shape"
   ]
  },
  {
   "cell_type": "code",
   "execution_count": null,
   "id": "86b3aa99-2bdb-47ae-bfa4-4ab28b61a385",
   "metadata": {},
   "outputs": [],
   "source": [
    "catalog = sim.getCatalog(real)\n",
    "x_star, y_star = sim.getBrightnessCoord(catalog) # Utiliser get_radec (notebook) puis le script (inclu d'utilsier Gaïa)"
   ]
  },
  {
   "cell_type": "code",
   "execution_count": null,
   "id": "5f45f27f-55fd-4600-ae53-4076eea8a847",
   "metadata": {},
   "outputs": [],
   "source": [
    "theta_x, theta_y = sim.getCoordBatoid(real, bins=32)"
   ]
  },
  {
   "cell_type": "raw",
   "id": "84ca914e-1b5c-4028-a700-3640a51c0bfe",
   "metadata": {},
   "source": [
    "with open('result_580.npy', 'rb') as f:\n",
    "    hist = np.load(f)\n",
    "    x_hist = np.load(f)\n",
    "    y_hist = np.load(f)\n",
    "\n",
    "with open('result_634.npy', 'rb') as f:\n",
    "    hist2 = np.load(f)\n",
    "    x_hist = np.load(f)\n",
    "    y_hist = np.load(f)"
   ]
  },
  {
   "cell_type": "raw",
   "id": "6953447f-d272-4a17-98e3-edbba0e77681",
   "metadata": {},
   "source": [
    "display.displaySimu(hist+hist2, x_hist, y_hist)"
   ]
  },
  {
   "cell_type": "code",
   "execution_count": null,
   "id": "45fdb424-cfd6-4c7a-b8f5-367a6fd71ca4",
   "metadata": {},
   "outputs": [],
   "source": [
    "init_params = gsim.initParams(real, 77.9439249565238, bins=32, nrad=600, naz=1200, minflux=1e-3, thetapos=(-0.22494359089904253, -0.008266610482656549))"
   ]
  },
  {
   "cell_type": "code",
   "execution_count": null,
   "id": "638a01e7-76c4-4c39-bee4-ca83a2c18ee7",
   "metadata": {},
   "outputs": [],
   "source": [
    "telescope = gsim.initTelescope()"
   ]
  },
  {
   "cell_type": "raw",
   "id": "c65269bd-9eb1-4f4b-ba7d-684bff5465e9",
   "metadata": {},
   "source": [
    "x_sep, y_sep, flux_sep = gsim.batoidCalcul(telescope, init_params)"
   ]
  },
  {
   "cell_type": "raw",
   "id": "3e199074-cf98-4817-8ac4-e0e632e8f092",
   "metadata": {},
   "source": [
    "x_grp, y_grp, flux_grp = gsim.groupData(x_sep, y_sep, flux_sep)"
   ]
  },
  {
   "cell_type": "code",
   "execution_count": null,
   "id": "50538d35-d5ca-4f28-a8d9-40b0538dcc71",
   "metadata": {},
   "outputs": [],
   "source": [
    "x_grp, y_grp, flux_grp = gsim.getGhosts(telescope, init_params)"
   ]
  },
  {
   "cell_type": "code",
   "execution_count": null,
   "id": "84dd9e76-7bd5-4b04-a79a-d96cdf157b82",
   "metadata": {},
   "outputs": [],
   "source": [
    "x_grp, y_grp = gsim.rotAfterBatoid(x_grp, y_grp, 77.9439249565238)"
   ]
  },
  {
   "cell_type": "code",
   "execution_count": null,
   "id": "bab2f570-d047-4ead-9638-5f6e26d1f4c0",
   "metadata": {},
   "outputs": [],
   "source": [
    "px, py = ghost_054.getDimensions()[0], ghost_054.getDimensions()[1]\n",
    "hist, x_hist, y_hist = gsim.getSimuImage(px, py, x_grp, y_grp, flux_grp, binning=32)\n",
    "hist = gfit.applyGrid(real, hist)"
   ]
  },
  {
   "cell_type": "code",
   "execution_count": null,
   "id": "cf31c5dd-a211-44c2-be2e-3d12c4212bef",
   "metadata": {},
   "outputs": [],
   "source": [
    "display.displaySimu(hist, x_hist, y_hist, name='NewTemplateGhost')"
   ]
  },
  {
   "cell_type": "code",
   "execution_count": null,
   "id": "96317d82-a67a-42f6-9a49-1efeff242a91",
   "metadata": {},
   "outputs": [],
   "source": [
    "print(f\"Hist shape : {hist.shape}\\nImage shape : {real.shape}\")"
   ]
  },
  {
   "cell_type": "code",
   "execution_count": null,
   "id": "6b8b3560-34f2-42b6-95ce-fe8abd1ad431",
   "metadata": {},
   "outputs": [],
   "source": [
    "clean = gfit.applyFit(real, hist)"
   ]
  },
  {
   "cell_type": "code",
   "execution_count": null,
   "id": "fbad9d10-c684-4a82-a019-1d470cd6acc4",
   "metadata": {},
   "outputs": [],
   "source": [
    "display.displayFit(real, hist, x_hist, y_hist, clean)"
   ]
  },
  {
   "cell_type": "markdown",
   "id": "d7b760de-0023-4693-944a-51c736f0ba6f",
   "metadata": {},
   "source": [
    "Because of satured light and a lot of bright sources, this fit don't works.\n",
    "\n",
    "Let's assume a different way."
   ]
  },
  {
   "cell_type": "code",
   "execution_count": null,
   "id": "18863ccb-6d35-494c-b9d9-f1e737a90818",
   "metadata": {},
   "outputs": [],
   "source": [
    "real2, hist2 = sim.removeSourcesBoth(real, hist)\n",
    "display.displayRemoveSourcesBoth(real2, hist2)"
   ]
  },
  {
   "cell_type": "code",
   "execution_count": null,
   "id": "4ff9d26e-b806-4cb7-bb4c-e8485a999596",
   "metadata": {},
   "outputs": [],
   "source": [
    "a, b = gfit.getFit(real2, hist2)\n",
    "clean2 = gfit.applyFit2(real, hist, a, b)"
   ]
  },
  {
   "cell_type": "code",
   "execution_count": null,
   "id": "715830b0-1f30-49e1-983f-3dba5ce6095d",
   "metadata": {},
   "outputs": [],
   "source": [
    "display.displayFit(real2, hist2, x_hist, y_hist, clean2)"
   ]
  },
  {
   "cell_type": "markdown",
   "id": "067c6f87-cb01-4015-abf3-c70a7c7ced37",
   "metadata": {},
   "source": [
    "Here, we assume this formula for the fit :\n",
    "\n",
    "$$\n",
    "    y = ax +b\n",
    "$$\n",
    "\n",
    "Were $a$ is the amplitude of ghosts, $x$ is the template of ghosts and $b$ is the sky background (noise).\n",
    "\n",
    "This is why we need to stress the noise. It can be stress the parameter $b$ during the fit and stress indirectly $a$."
   ]
  },
  {
   "cell_type": "code",
   "execution_count": null,
   "id": "20ef7520-5c20-4765-bdd3-b0cb50f62cd6",
   "metadata": {},
   "outputs": [],
   "source": [
    "real2, clean3 = sim.removeSourcesBoth(real, clean2)\n",
    "display.displayFit(real2, hist2, x_hist, y_hist, clean3)"
   ]
  },
  {
   "cell_type": "markdown",
   "id": "f8335d6b-e0e4-475f-92f0-4b2aa892d422",
   "metadata": {},
   "source": [
    "# Some test"
   ]
  },
  {
   "cell_type": "markdown",
   "id": "031fa6d5-ed6f-43c7-ba81-290a2ce29d8a",
   "metadata": {},
   "source": [
    "## Test iMinuit"
   ]
  },
  {
   "cell_type": "code",
   "execution_count": null,
   "id": "0acadc76-e9b2-4b2b-af55-c4a45b51c8b1",
   "metadata": {},
   "outputs": [],
   "source": [
    "clean_test2, m_data = gfit.testMinuitBis(real, hist)\n",
    "real2, clean_test3 = sim.removeSourcesBoth(real, clean_test2)\n",
    "display.displayFit(real2, hist2, x_hist, y_hist, clean_test2, name='LatestFitWorks')"
   ]
  },
  {
   "cell_type": "code",
   "execution_count": null,
   "id": "6f953ae2-53e9-43ee-809f-a400d7ec1ad0",
   "metadata": {},
   "outputs": [],
   "source": [
    "m_data.values['amp']"
   ]
  },
  {
   "cell_type": "markdown",
   "id": "fef112b3-634a-426c-9bc0-7cb029c6724f",
   "metadata": {},
   "source": [
    "## Test Airy"
   ]
  },
  {
   "cell_type": "code",
   "execution_count": null,
   "id": "05206d4f-2f53-4dfb-bd2f-b614cadf9a11",
   "metadata": {},
   "outputs": [],
   "source": [
    "airy = gsim.getAiry(286.87692047715433, 769.9001264140228 , -77.89209882814671)\n",
    "airy = gfit.applyGrid(real, airy)\n",
    "testfit = hist + airy\n",
    "real2, airy2 = sim.removeSourcesBoth(real, testfit)\n",
    "clean_airy, m_data_airy = gfit.testMinuitAiry(real, hist, airy)\n",
    "real2, clean_airy = sim.removeSourcesBoth(real, clean_airy)\n",
    "display.displayFit2(real2, testfit, clean_airy)"
   ]
  },
  {
   "cell_type": "code",
   "execution_count": null,
   "id": "d56550b4-78de-43ae-809a-7940d5afdc6a",
   "metadata": {},
   "outputs": [],
   "source": [
    "m_data_airy.values['AmpG'], m_data_airy.values['AmpA']"
   ]
  },
  {
   "cell_type": "markdown",
   "id": "31f9ca21-8c29-4009-a6b8-e43a71d8e21b",
   "metadata": {},
   "source": [
    "## Test smooth image"
   ]
  },
  {
   "cell_type": "code",
   "execution_count": null,
   "id": "b75ecae6-fa15-475d-8570-c681691a7ab3",
   "metadata": {},
   "outputs": [],
   "source": [
    "smoothsimu = gsim.getSmoothSimu(hist, sigma=0.5)\n",
    "display.displaySimu(smoothsimu, x_hist, y_hist)"
   ]
  },
  {
   "cell_type": "raw",
   "id": "ed03c9fb-f462-4280-a4be-2f69ad38a695",
   "metadata": {},
   "source": [
    "real2, hist2 = sim.removeSourcesBoth(real, smoothsimu)\n",
    "clean_test2, m_data = gfit.testMinuit(real, hist2)\n",
    "real2, clean_test2 = sim.removeSourcesBoth(real, clean_test2)\n",
    "display.displayFit(real2, hist2, x_hist, y_hist, clean_test2)"
   ]
  },
  {
   "cell_type": "markdown",
   "id": "4158bb81-18f9-4d34-b4ee-d53926cf1e03",
   "metadata": {},
   "source": [
    "A faire : \n",
    " - Utilisation des RA/DEC d'un catalogue comme Gaïa (très chiant pour la transformation des coordonnées)\n",
    " - Lissage de la simu (statsSmoothImage => Pas ouf, faire avec un binning)\n",
    " - Etude du bruit sur toute l'image (attention au binning), possible que le bruit varie suivant (x, y) (easy)\n",
    " - Appliquer une corrélation ghosts/image (modifier les méthodes de corrélation)\n",
    " - Calcul du $\\chi2$ réduit (easy)\n",
    " - Retravailler les indices de réfraction/réfléxion"
   ]
  },
  {
   "cell_type": "markdown",
   "id": "b6d158ac-f995-4848-86ff-21ab1fa4cf28",
   "metadata": {},
   "source": [
    "Deux cas possibles pour les ghosts :\n",
    "- Faire la corrélation pour séléctionner les ghosts avec une simu la + basse possible (minFlux)\n",
    "- Utilisé maxFlux de l'étoile et minFlux détectable par les CCD (idéal, mais implique utilisation d'un catalogue externe, encore...)"
   ]
  },
  {
   "cell_type": "markdown",
   "id": "999df8ff-fb41-4289-983d-301272d4b4bc",
   "metadata": {},
   "source": [
    "## Test du $\\chi^2$"
   ]
  },
  {
   "cell_type": "raw",
   "id": "507775dc-2df7-402f-99e6-39033a05b8dc",
   "metadata": {},
   "source": [
    "gfit.getChi2(sim.extractSources(real), clean2)"
   ]
  },
  {
   "cell_type": "raw",
   "id": "a6ec4a56-d472-4f40-9e93-d65456423770",
   "metadata": {},
   "source": [
    "display.displaySourcesAndGhosts(real)"
   ]
  },
  {
   "cell_type": "raw",
   "id": "f0e04816-7ef6-4b35-a3bf-baed5e59eb11",
   "metadata": {},
   "source": [
    "gfit.showChi2vsA(real, hist, a, b)"
   ]
  },
  {
   "cell_type": "markdown",
   "id": "6341329e-337d-42f9-bb84-18de8f2de6fa",
   "metadata": {},
   "source": [
    "Le $\\chi^2$ attend son minimum pour $a$ qui tend vers 0 et $b$ qui tend vers (environ) 715.\n",
    "\n",
    "Il nous faut donc contraindre $a$ grâce à $b$ avec une étude du bruit."
   ]
  },
  {
   "cell_type": "markdown",
   "id": "4d397734-b797-443b-879a-cadda267c911",
   "metadata": {},
   "source": [
    "## Tests sur l'étude du bruit"
   ]
  },
  {
   "cell_type": "markdown",
   "id": "e11dc8aa-938d-4ce5-9cbe-450bac756c6b",
   "metadata": {},
   "source": [
    "Ici on \"assemble\" 4 zones de notre image sans les sources lumineuses et on regarde la distribution du bruit."
   ]
  },
  {
   "cell_type": "raw",
   "id": "c42ef989-04bf-47ba-a4f4-bda835924ea7",
   "metadata": {},
   "source": [
    "xnoise = [(1100, 1400),(1100, 1500), (1100, 1500), (100, 400)]\n",
    "ynoise = [(100, 400), (600, 1000), (1100, 1500), (100, 400)]\n",
    "gfit.showNoise2(sim.removeSources(real), x=xnoise, y=ynoise)"
   ]
  },
  {
   "cell_type": "raw",
   "id": "cf938134-3499-4765-8d42-a88fc4d7325e",
   "metadata": {},
   "source": [
    "params_opt =  gfit.getNoise2(sim.removeSources(real), x=xnoise, y=ynoise)\n",
    "mean_noise, std_noise = params_opt[1], params_opt[2]\n",
    "print(f\"mean = {mean_noise}\\n std = {std_noise}\")"
   ]
  },
  {
   "cell_type": "markdown",
   "id": "5bf5b1b7-fe17-4c5e-8de1-5c06a1b33b09",
   "metadata": {},
   "source": [
    "On a donc un bruit blanc gaussien de moyenne et d'écart type ci-dessus.\n",
    "\n",
    "Par contre on remarque une légère contribution sur la droite (ghosts ?)"
   ]
  },
  {
   "cell_type": "markdown",
   "id": "8f0c2b4c-bbf5-47af-aafa-1789830f0216",
   "metadata": {},
   "source": [
    "Ensuite on regarde la distribution sur toute l'image (toujours sans les sources lumineuses) et on fit avec une somme de deux gaussiennes que l'on identifiera ensuite comme une gaussienne pour le bruit et une gaussienne pour les artefacts."
   ]
  },
  {
   "cell_type": "raw",
   "id": "85e58c63-3c2d-4fe5-bfdf-66d70664c322",
   "metadata": {},
   "source": [
    "gfit.showNoise2(sim.removeSources(real), x=[(0, 1577)], y=[(0, 1586)], sigma=10.0)"
   ]
  },
  {
   "cell_type": "raw",
   "id": "46738591-d7df-4329-ba2f-848ef072752b",
   "metadata": {},
   "source": [
    "params_opt =  gfit.getNoise2(sim.removeSources(real), x=[(0, 1577)], y=[(0, 1586)])\n",
    "mean_noise, std_noise = params_opt[1], params_opt[2]\n",
    "print(f\"mean = {mean_noise}\\n std = {std_noise}\")"
   ]
  },
  {
   "cell_type": "markdown",
   "id": "18aab945-0975-4227-8296-bba9d23545c6",
   "metadata": {},
   "source": [
    "Comme on semble avoir un bruit blanc gaussien, on va le simuler."
   ]
  },
  {
   "cell_type": "raw",
   "id": "c023c8bb-91ab-4bfe-a4a4-56edff506aab",
   "metadata": {},
   "source": [
    "image_bruit = gsim.getNoiseSimu(real, mean_noise, std_noise)"
   ]
  },
  {
   "cell_type": "raw",
   "id": "02e645a0-7aba-4299-9d5b-df9bf6ffff37",
   "metadata": {},
   "source": [
    "gsim.showNoiseSimu(real, mean_noise, std_noise)"
   ]
  },
  {
   "cell_type": "markdown",
   "id": "fd9c1212-c4d0-4b43-85cf-6a3dbfb8164f",
   "metadata": {},
   "source": [
    "Et on retire les sources lumineuses sur ce template de bruit."
   ]
  },
  {
   "cell_type": "raw",
   "id": "0a21612e-62e7-49c5-bde3-fa37154aa6f2",
   "metadata": {},
   "source": [
    "_, image_bruit2 = sim.removeSourcesBoth(real, image_bruit)"
   ]
  },
  {
   "cell_type": "markdown",
   "id": "a07bc76f-401f-4523-98e7-6954332c1440",
   "metadata": {},
   "source": [
    "On récupère ensuite notre template de ghosts simulé sans les sources lumineuses et on accepte la formule suivante :\n",
    "$$ y = A * x + B $$\n",
    "Où :\n",
    "- y est la distribution sur l'image sans les sources\n",
    "- x le template des ghosts sans sources (sans faire de fit)\n",
    "- A est l'amplitude des ghosts\n",
    "- B est le template du bruit simulé"
   ]
  },
  {
   "cell_type": "markdown",
   "id": "8454af61-d520-4791-9cbd-d585ad46b475",
   "metadata": {},
   "source": [
    "Le seul paramètre libre est donc $A$. Pour l'instant on le fixe à la main pour étudier la contribution des ghosts dans le bruit."
   ]
  },
  {
   "cell_type": "raw",
   "id": "c80e1ad4-39c3-42ed-8d34-3093819bd95c",
   "metadata": {},
   "source": [
    "hist_show = 616.2455000324732*hist2 + image_bruit2\n",
    "gfit.showNoise2(hist_show, x=[(0, 1577)], y=[(0, 1586)], sigma=10.0)"
   ]
  },
  {
   "cell_type": "markdown",
   "id": "0958d1b6-1379-4a86-9804-1f70bd732c2f",
   "metadata": {},
   "source": [
    "On voit bien ici que la gaussienne assimilée aux ghosts est trop décalée sur la droite. Ce décalage est justement lié à la contribution des ghosts dans le bruit."
   ]
  },
  {
   "cell_type": "raw",
   "id": "2d4aa073-19d8-4241-8a8d-449d502ad1b0",
   "metadata": {},
   "source": [
    "clean_test3, m_data2 = gfit.testMinuit2(real, hist, image_bruit)\n",
    "real2, clean_test4 = sim.removeSourcesBoth(real, clean_test3)\n",
    "display.displayFit(real2, hist2, x_hist, y_hist, clean_test3)"
   ]
  },
  {
   "cell_type": "raw",
   "id": "e2588b78-f95d-4fbb-8bd6-ee203acd5417",
   "metadata": {},
   "source": [
    "hist_show = m_data2.values[\"amp\"]*hist2 + image_bruit2\n",
    "gfit.showNoise2(hist_show, x=[(0, 1577)], y=[(0, 1586)], sigma=10.0)"
   ]
  },
  {
   "cell_type": "raw",
   "id": "dbc581d8-9f6e-4f04-9196-d7263821dcfe",
   "metadata": {},
   "source": [
    "gfit.showChi2vsAmp(real, hist, image_bruit)"
   ]
  },
  {
   "cell_type": "markdown",
   "id": "b9d4b101-e303-4fc1-ba5e-c303546f369b",
   "metadata": {},
   "source": [
    "## Test diffusion/étalement de l'étoile"
   ]
  },
  {
   "cell_type": "code",
   "execution_count": null,
   "id": "d8dfe75d-32be-4a86-8910-17d4bf22ebd4",
   "metadata": {},
   "outputs": [],
   "source": [
    "gfit.showNoise2(real2, x=[(150,250)], y=[(50,100)], name='UpdateNoise')"
   ]
  },
  {
   "cell_type": "markdown",
   "id": "f5c7ffe6-5cf9-4a30-a355-339c3700606a",
   "metadata": {},
   "source": [
    "## Test RA/DEC"
   ]
  },
  {
   "cell_type": "raw",
   "id": "1d84eac8-74b5-4ec4-ba10-908bd9006909",
   "metadata": {},
   "source": [
    "In break, need calexp's Wcs to expect a better estimation of the position"
   ]
  },
  {
   "cell_type": "markdown",
   "id": "30c43799-6c51-40be-b3e5-a821389d95b8",
   "metadata": {},
   "source": [
    "## Test $\\lambda$ "
   ]
  },
  {
   "cell_type": "code",
   "execution_count": null,
   "id": "25aaefe3-0980-4309-b0c6-c0b44ca63f74",
   "metadata": {},
   "outputs": [],
   "source": [
    "gaia = np.array([5.019057E-14, 5.0996845E-14, 5.0051394E-14, 4.282752E-14, 3.524178E-14, 3.2697986E-14, 3.5969268E-14, 4.1569558E-14, 4.634019E-14, 4.5557928E-14, 3.6911978E-14, 2.9921337E-14, 3.1974433E-14, 3.917891E-14, 4.5230628E-14, 4.8427577E-14, 5.1092892E-14, 5.28134E-14, 4.937926E-14, 3.9701562E-14, 3.028126E-14, 2.871902E-14, 3.1462917E-14, 2.7854638E-14, 1.734723E-14, 1.1971047E-14, 1.9091967E-14, 3.1631453E-14, 3.911928E-14, 3.9900903E-14, 4.1227404E-14, 5.0277074E-14, 6.671454E-14, 8.347679E-14, 9.2098116E-14, 9.040191E-14, 8.2843387E-14, 7.625434E-14, 7.464474E-14, 7.733605E-14, 8.0083685E-14, 8.004825E-14, 7.783652E-14, 7.67246E-14, 7.977989E-14, 8.740479E-14, 9.657581E-14, 1.0377032E-13, 1.0683171E-13, 1.0648854E-13, 1.0602836E-13, 1.08818926E-13, 1.1583387E-13, 1.2599526E-13, 1.3650425E-13, 1.4464315E-13, 1.4904381E-13, 1.5015345E-13, 1.4992319E-13, 1.504336E-13, 1.5274137E-13, 1.5697057E-13, 1.6163497E-13, 1.65433E-13, 1.6731759E-13, 1.6692881E-13, 1.6568367E-13, 1.6430629E-13, 1.6425113E-13, 1.6609523E-13, 1.6946339E-13, 1.734392E-13, 1.7722775E-13, 1.7929507E-13, 1.7974054E-13, 1.7806397E-13, 1.7536012E-13, 1.7248849E-13, 1.703179E-13, 1.6900339E-13, 1.6869211E-13, 1.6934215E-13, 1.7031436E-13, 1.7034068E-13, 1.6977534E-13, 1.6798097E-13, 1.6533243E-13, 1.6240842E-13, 1.59633E-13, 1.5775844E-13, 1.5724108E-13, 1.5822288E-13, 1.6032832E-13, 1.6377802E-13, 1.6795834E-13, 1.721073E-13, 1.7599136E-13, 1.7926161E-13, 1.8128524E-13, 1.8239347E-13, 1.8303943E-13, 1.8307723E-13, 1.8265063E-13, 1.8239928E-13, 1.8255447E-13, 1.8258354E-13, 1.8301559E-13, 1.8379754E-13, 1.8491614E-13, 1.8558614E-13, 1.8657431E-13, 1.8741833E-13, 1.8796851E-13, 1.8841318E-13, 1.8888909E-13, 1.895612E-13, 1.9033946E-13, 1.9175044E-13, 1.9368044E-13, 1.9520618E-13, 1.9654756E-13, 1.97153E-13, 1.9749896E-13, 1.9711118E-13, 1.9588454E-13, 1.9499117E-13, 1.9401696E-13, 1.9343591E-13, 1.9375556E-13, 1.9358161E-13, 1.9353623E-13, 1.9423845E-13, 1.9510844E-13, 1.9597324E-13, 1.9629575E-13, 1.9632738E-13, 1.9586471E-13, 1.9519674E-13, 1.9446519E-13, 1.9364302E-13, 1.9276432E-13, 1.9219714E-13, 1.9110444E-13, 1.9066664E-13, 1.9152457E-13, 1.9241245E-13, 1.9363955E-13, 1.950874E-13, 1.9618001E-13, 1.9742027E-13, 1.9674591E-13, 1.9146325E-13, 1.8612077E-13, 1.856715E-13, 1.8710286E-13, 1.8839707E-13, 1.8913832E-13, 1.8966531E-13, 1.8960009E-13, 1.8930655E-13, 1.8929374E-13, 1.9012085E-13, 1.9191712E-13, 1.9396987E-13, 1.953149E-13, 1.952745E-13, 1.9448058E-13, 1.935763E-13, 1.9271768E-13, 1.9212335E-13, 1.9244353E-13, 1.926178E-13, 1.9262666E-13, 1.9245474E-13, 1.9179339E-13, 1.9079776E-13, 1.8966515E-13, 1.8823841E-13, 1.8626577E-13, 1.8468422E-13, 1.8299716E-13, 1.8161233E-13, 1.8051898E-13, 1.8032166E-13, 1.7983224E-13, 1.7927657E-13, 1.786585E-13, 1.7724856E-13, 1.7554935E-13, 1.73993E-13, 1.7307127E-13, 1.7273344E-13, 1.7249685E-13, 1.7297248E-13, 1.7281726E-13, 1.7234323E-13, 1.7199852E-13, 1.712016E-13, 1.701359E-13, 1.6935298E-13, 1.6923644E-13, 1.6914906E-13, 1.6919589E-13, 1.6948587E-13, 1.6956137E-13, 1.6961098E-13, 1.6947751E-13, 1.6973571E-13, 1.696732E-13, 1.6997052E-13, 1.6985499E-13, 1.7001931E-13, 1.7042928E-13, 1.7062706E-13, 1.7106107E-13, 1.7176355E-13, 1.724023E-13, 1.7315999E-13, 1.73001E-13, 1.7206013E-13, 1.7065307E-13, 1.6873243E-13, 1.6652318E-13, 1.6400335E-13, 1.62364E-13, 1.6102401E-13, 1.6004503E-13, 1.5942957E-13, 1.5879488E-13, 1.5821316E-13, 1.5744671E-13, 1.5617249E-13, 1.549793E-13, 1.5361218E-13, 1.5233476E-13, 1.5169575E-13, 1.5116516E-13, 1.5081213E-13, 1.5067689E-13, 1.5006556E-13, 1.5015029E-13, 1.4971023E-13, 1.4944336E-13, 1.4876414E-13, 1.4814709E-13, 1.4793575E-13, 1.4770299E-13, 1.4738963E-13, 1.4714467E-13, 1.4651407E-13, 1.458987E-13, 1.4560813E-13, 1.4466522E-13, 1.4387536E-13, 1.4236537E-13, 1.4201844E-13, 1.417583E-13, 1.4175144E-13, 1.4144141E-13, 1.4161213E-13, 1.4188245E-13, 1.4246182E-13, 1.4271456E-13, 1.4280772E-13, 1.4318131E-13, 1.4357967E-13, 1.4490611E-13, 1.4465156E-13, 1.4577166E-13, 1.4629435E-13, 1.471769E-13, 1.4808163E-13, 1.4970716E-13, 1.5023856E-13, 1.5044923E-13, 1.5014108E-13, 1.4976338E-13, 1.4938871E-13, 1.4849358E-13, 1.4733119E-13, 1.4675541E-13, 1.4548376E-13, 1.4455978E-13, 1.436193E-13, 1.4214218E-13, 1.405059E-13, 1.3959899E-13, 1.3769404E-13, 1.3596879E-13, 1.3457826E-13, 1.3339248E-13, 1.3138718E-13, 1.302925E-13, 1.3036585E-13, 1.2940328E-13, 1.2876339E-13, 1.2928589E-13, 1.2904772E-13, 1.2871148E-13, 1.2881399E-13, 1.2875565E-13, 1.2876816E-13, 1.2800342E-13, 1.2718675E-13, 1.2785575E-13, 1.2662767E-13, 1.2596201E-13, 1.2675192E-13, 1.2579819E-13, 1.256526E-13, 1.264914E-13, 1.2635998E-13, 1.2652603E-13, 1.2662771E-13, 1.2696254E-13, 1.258316E-13, 1.2552986E-13, 1.2552116E-13, 1.2360597E-13, 1.2367944E-13, 1.2290588E-13, 1.2102977E-13, 1.2180894E-13, 1.2006052E-13, 1.2011415E-13, 1.1991101E-13, 1.1864077E-13, 1.199478E-13, 1.1883266E-13, 1.1947259E-13, 1.1981968E-13, 1.1886043E-13, 1.189568E-13, 1.1841179E-13, 1.1716268E-13, 1.1760066E-13, 1.1618178E-13, 1.1648352E-13, 1.1772087E-13, 1.1726858E-13, 1.2045725E-13, 1.202504E-13, 1.2360435E-13])\n",
    "x = np.linspace(336.0, 1020.0, 343)\n",
    "total_r = np.array([2.2103094327785492e-06, 2.4444191602427947e-06, 2.7110968119619556e-06, 3.0401213471756123e-06, 3.219027536557042e-06, 3.324167518041646e-06, 3.507465907076755e-06, 3.6346649226983233e-06, 3.88929829758298e-06, 4.149869388761565e-06, 5.1857418240222645e-06, 6.1649721291992224e-06, 6.59429595822675e-06, 4.922844214142014e-06, 4.410120720581599e-06, 4.971307735564283e-06, 4.639218507517357e-06, 5.2403456541119645e-06, 7.367022982192409e-06, 7.212245801140399e-06, 5.153660202943654e-06, 4.3310178449934795e-06, 4.5360013710540655e-06, 5.746743846142086e-06, 8.35176342022423e-06, 1.1423667691165436e-05, 8.382502473033422e-06, 5.321108366253187e-06, 3.673217841444651e-06, 3.5713267645620624e-06, 3.530694731509639e-06, 3.469974700855406e-06, 3.3699793937228495e-06, 2.9359851912331997e-06, 4.11832329601524e-06, 3.858818746865327e-06, 3.6220443766755903e-06, 4.493151401319473e-06, 4.900502487060959e-06, 4.636909206767905e-06, 4.5812661190725646e-06, 4.436686513777406e-06, 7.551212565666163e-06, 1.7743157127747282e-05, 4.34718634110199e-05, 8.605374527064252e-05, 9.007166665289392e-05, 5.196427730356598e-05, 2.4740694896367807e-05, 1.4735998692693606e-05, 9.09513629412724e-06, 6.921850336852904e-06, 4.560289453508548e-06, 4.3124104072363465e-06, 5.294814342760965e-06, 6.034737975333641e-06, 6.222118293757494e-06, 1.0335346288105955e-05, 9.857974492224712e-06, 7.000816840794635e-06, 4.941086506008608e-06, 4.281174063522005e-06, 4.719791924974035e-06, 7.530913919990491e-06, 1.5300144139164257e-05, 2.884981162875097e-05, 3.5269490455434163e-05, 2.5502857853863982e-05, 1.296902582654033e-05, 6.013144724667133e-06, 4.128795369341371e-06, 3.7233333021154475e-06, 3.651385333322792e-06, 3.273428644560274e-06, 3.146991451893625e-06, 3.4261711861644855e-06, 3.742708751552459e-06, 3.903668950728768e-06, 4.340008077039355e-06, 4.567879823252167e-06, 4.9316421802758105e-06, 5.3460006116935226e-06, 5.815626822139539e-06, 7.199675308875401e-06, 1.0410122981295913e-05, 1.6441426773846982e-05, 2.555069796305854e-05, 2.955088545472127e-05, 2.312161369613722e-05, 1.5630088301862175e-05, 1.3106964345205328e-05, 1.3202691190315347e-05, 0.0003655640858086122, 0.00043377723250901187, 0.00048385723129504114, 0.000537020428565226, 0.0007468495336876979, 0.001078951438976235, 0.0007695517419384161, 0.0029799665913809135, 0.0059372591879585145, 0.015234172023241493, 0.035443222206936145, 0.06357801411602619, 0.10465523025655361, 0.15542002359773768, 0.2251080616268547, 0.2908727875978049, 0.3488791302266628, 0.3934229414108717, 0.4300915477462819, 0.4540865470614301, 0.47085965839738236, 0.47913104206075446, 0.48437922511093934, 0.4854976508607607, 0.48635152593086506, 0.487231291687499, 0.4932972593935616, 0.4952362878882003, 0.49819279835717767, 0.498943624509299, 0.4975571325762805, 0.502711261602869, 0.5001597538188143, 0.5026807212502257, 0.5019999963424793, 0.5000962619672342, 0.5005161504285774, 0.5023497538954913, 0.5091879968894013, 0.5095485906795912, 0.5112428846059143, 0.510104439009029, 0.5125183708764453, 0.5161681193584083, 0.5202001942440608, 0.5211501987049024, 0.5207190534511265, 0.5282796527317591, 0.5283497630674747, 0.5300849698487382, 0.5314882302960491, 0.5360875463717466, 0.53749836078895, 0.5376887101680466, 0.53078532115218, 0.5363471756681083, 0.5435892248403972, 0.5431555181840915, 0.5483903727907908, 0.548564232659826, 0.5500572322476852, 0.5537888946033516, 0.5546059732391078, 0.5581639836533451, 0.5572441235489156, 0.559361450864728, 0.5622391373038148, 0.5640068620114295, 0.5619229850795325, 0.5685843105829449, 0.5670596511840295, 0.5709062847388436, 0.570666373701367, 0.5717719427715582, 0.5715204700248199, 0.5748287178462935, 0.5750268201038536, 0.5737275682552402, 0.5724814703480908, 0.5577319710107368, 0.5421075356459011, 0.5175236131493273, 0.4800859994813301, 0.4327324653940676, 0.3184385077074416, 0.288193682299898, 0.25272203777540103, 0.2014527505260258, 0.14441495313259686, 0.08991998184196097, 0.04828171062891763, 0.021510949254160708, 0.006179941832647359, 0.0026639575734820767, 0.0003914948070153219, 0.0004923004461694778, 0.00019991613988916036, 0.00031864519288286766, 0.00010561718294079352, 0.0002536844929339289, 2.000291272357101e-15, 2.172093732895049e-05, 1.8397190496937333e-05, 1.5951670965401912e-05, 1.4011203291935862e-05, 1.3104995633691906e-05, 1.1766835404344928e-05, 1.08512850427449e-05, 9.937560727946984e-06, 9.214658813705047e-06, 8.677856613886007e-06, 8.010050449008694e-06, 7.335239001287766e-06, 6.990929270000672e-06, 6.567482704968137e-06, 6.185261603636107e-06, 5.9899768247236525e-06, 5.744924484255852e-06, 5.361773531824519e-06, 5.200458339583701e-06, 2.532583284800886e-06, 3.404561902764488e-06, 3.110546890872419e-06, 4.043644324878195e-06, 4.502962581446166e-06, 4.4243165385748234e-06, 4.189837835491466e-06, 4.185467033402719e-06, 4.282734633396199e-06, 4.098333374360203e-06, 3.983632228806969e-06, 4.043715071266795e-06, 3.868823252370198e-06, 3.794183699535995e-06, 3.710540201685599e-06, 3.632651407223034e-06, 3.7992242513604815e-06, 3.861744442161395e-06, 3.6203295353927776e-06, 3.5548898144305047e-06, 3.5686163745463667e-06, 3.4205715453644896e-06, 3.4171339966910687e-06, 3.517422086275293e-06, 3.4931019617414696e-06, 3.433672919753403e-06, 3.3058788688344604e-06, 3.049031632650715e-06, 2.953495959634138e-06, 2.8684869406582117e-06, 2.7880354332547294e-06, 2.9148711877770473e-06, 2.809069911817289e-06, 2.8743180000351233e-06, 3.079015629239337e-06, 1.5939928986152745e-06, 5.015329933914953e-09, 8.2922231560312e-08, 2.0512161457186766e-07, 8.272919698023348e-07, 4.441848706414758e-06, 1.6115818403706336e-05, 3.342471913700169e-05, 4.575660077389171e-05, 4.5200724231461715e-05, 3.1992321211518506e-05, 1.599272335145545e-05, 6.534658963130087e-06, 3.139625904470123e-06, 2.32657986642273e-06, 2.219123405133987e-06, 2.616927853148477e-06, 2.962224305319529e-06, 2.7298589948258842e-06, 2.291533026293416e-06, 1.6285252087766986e-06, 9.588680254413596e-07, 6.945720728221682e-07, 5.811231132411741e-07, 3.935819200611739e-07, 3.6463783085213275e-07, 5.468515132650321e-07, 8.595091992813226e-07, 1.3010391767843783e-06, 1.7602084357557676e-06, 2.009399259322137e-06, 1.994154653018937e-06, 1.6606774045494383e-06, 9.895023809970755e-07, 5.797017175920178e-07, 4.452467514651693e-07, 3.497439362573949e-07, 3.174472461772081e-07, 3.697419309985324e-07, 3.8771971338975157e-07, 3.4377470854020457e-07, 5.345418794390946e-07, 7.371190997604736e-07, 9.94689007846267e-07, 1.3509593139961075e-06, 1.6528026447189617e-06, 1.7274969346829276e-06, 1.5772279153390811e-06, 1.2099151758944504e-06, 8.571436411838382e-07, 6.963478343265379e-07, 4.896326633586812e-07, 2.625454725524451e-07, 1.8814665025720928e-07, 2.615420751123665e-07, 3.287218145671055e-07, 4.0143559731303346e-07, 6.01992817960798e-07, 8.567391280644509e-07, 1.005948086137376e-06, 1.231267082843343e-06, 1.4763309694027982e-06, 1.6640613130366393e-06, 1.6750461619038501e-06, 2.09705669617474e-06, 2.3074541540079382e-06, 2.9095390302354533e-06, 3.5572495047777546e-06, 4.528334813361213e-06, 6.38676542197613e-06, 8.053017701149041e-06, 9.597297844396861e-06, 9.921739231400562e-06, 9.419780077801836e-06, 9.65508184241541e-06, 9.482541052546251e-06, 9.504639518146676e-06, 9.102290295481935e-06, 8.536578275903681e-06, 7.960632769505843e-06, 7.463359236468128e-06, 6.959820971443516e-06, 6.366766959631205e-06, 5.858619701607985e-06, 5.444666593309101e-06, 5.149003262895784e-06, 5.170044905444065e-06, 5.564945517285916e-06, 6.221798928579727e-06, 7.167345769205609e-06, 7.935713235868525e-06, 8.2158777622651e-06, 7.566999091286461e-06, 6.080256118305824e-06, 4.418019410334453e-06, 3.10675399041976e-06])"
   ]
  },
  {
   "cell_type": "code",
   "execution_count": null,
   "id": "be13f7b0-8ae3-4564-9f81-a1b7b4f2db93",
   "metadata": {},
   "outputs": [],
   "source": [
    "gaia = gaia / np.max(gaia)"
   ]
  },
  {
   "cell_type": "code",
   "execution_count": null,
   "id": "bf49dbc8-2e33-465b-ad4c-1c0b2a60676c",
   "metadata": {},
   "outputs": [],
   "source": [
    "plt.plot(x, gaia)\n",
    "plt.plot(x, total_r)\n",
    "plt.show()"
   ]
  },
  {
   "cell_type": "code",
   "execution_count": null,
   "id": "37c8ad21-2fef-4841-8eb5-75a48af8f9ac",
   "metadata": {},
   "outputs": [],
   "source": [
    "plt.plot(x, gaia*total_r)\n",
    "plt.show()"
   ]
  },
  {
   "cell_type": "code",
   "execution_count": null,
   "id": "3d484b5a-13e8-4cd0-bc33-b0affe3da5e8",
   "metadata": {},
   "outputs": [],
   "source": [
    "lambda_eff = np.sum(x*total_r)/np.sum(total_r)\n",
    "lambda_eff"
   ]
  },
  {
   "cell_type": "code",
   "execution_count": null,
   "id": "077c1bc9-3148-48ac-a2c9-1a3284b40c6c",
   "metadata": {},
   "outputs": [],
   "source": [
    "idx = np.argmax(gaia*total_r)\n",
    "print(x[idx])"
   ]
  },
  {
   "cell_type": "markdown",
   "id": "8a232c20-7725-4019-af86-d33a7db91504",
   "metadata": {},
   "source": [
    "## Coord DP0.2"
   ]
  },
  {
   "cell_type": "code",
   "execution_count": null,
   "id": "5bb8951c-761b-4aa2-bc4e-a0d6b5339bdf",
   "metadata": {},
   "outputs": [],
   "source": [
    "import pandas as pd\n",
    "\n",
    "mon_objet = pd.read_pickle('DC2_massive_halo.pkl')\n",
    "\n",
    "print(mon_objet)"
   ]
  },
  {
   "cell_type": "markdown",
   "id": "0e408f50-762d-4d6d-a4ae-a254ef2749c5",
   "metadata": {},
   "source": [
    "## Cut test"
   ]
  },
  {
   "cell_type": "code",
   "execution_count": null,
   "id": "549912cf-5815-40c9-8baa-b9fa5ebf883a",
   "metadata": {},
   "outputs": [],
   "source": [
    "yc, xc = real.shape\n",
    "xc, yc = xc/2.0, yc/2.0\n",
    "xpos = xc - 0.22494359089904253/0.2/8.0*3600\n",
    "ypos = yc - 0.008266610482656549/0.2/8.0*3600"
   ]
  },
  {
   "cell_type": "code",
   "execution_count": null,
   "id": "e0639e72-2558-452b-82a1-4c54df339760",
   "metadata": {},
   "outputs": [],
   "source": [
    "xpos, ypos"
   ]
  },
  {
   "cell_type": "code",
   "execution_count": null,
   "id": "136cb92e-367a-4c88-aa71-a079145c3c3b",
   "metadata": {},
   "outputs": [],
   "source": [
    "display.displayCut(clean3, xpos, ypos)"
   ]
  },
  {
   "cell_type": "code",
   "execution_count": null,
   "id": "196e609e-ced2-4dd7-bbf3-293947b47f2a",
   "metadata": {},
   "outputs": [],
   "source": [
    "display.displayClean(clean3)"
   ]
  },
  {
   "cell_type": "code",
   "execution_count": null,
   "id": "e1ef2625-cb5d-4ffc-b711-8c1db03bd29e",
   "metadata": {},
   "outputs": [],
   "source": [
    "display.displayCut(real2, xpos, ypos)"
   ]
  },
  {
   "cell_type": "code",
   "execution_count": null,
   "id": "9cce0b13-a586-4f95-b956-59dd635affb1",
   "metadata": {},
   "outputs": [],
   "source": [
    "fig = plt.figure(figsize=(16, 6))\n",
    "\n",
    "# Coupe en x (ligne à ypos)\n",
    "plt.subplot(1, 2, 1)\n",
    "x = hist2[int(ypos), :]\n",
    "x_idx = np.arange(len(x))\n",
    "plt.bar(x_idx, x, width=1.0)\n",
    "plt.xlabel(\"Pixels along y axis\")\n",
    "plt.ylabel(\"Bin value\")\n",
    "plt.ylim(0, 1)\n",
    "plt.title(f\"Cut at x = {xpos}\")\n",
    "\n",
    "# Coupe en y (colonne à xpos)\n",
    "plt.subplot(1, 2, 2)\n",
    "y = hist2[:, int(xpos)]\n",
    "y_idx = np.arange(len(y))\n",
    "plt.bar(y_idx, y, width=1.0)\n",
    "plt.xlabel(\"Pixels along x axis\")\n",
    "plt.ylabel(\"Bin value\")\n",
    "plt.ylim(0, 1)\n",
    "plt.title(f\"Cut at y = {ypos}\")\n",
    "\n",
    "plt.tight_layout()\n",
    "plt.show()"
   ]
  },
  {
   "cell_type": "markdown",
   "id": "9b0c221a-44b7-48f4-a9d0-4155b3c36e23",
   "metadata": {},
   "source": [
    "## Test on mosaic"
   ]
  },
  {
   "cell_type": "code",
   "execution_count": null,
   "id": "5f18cf9b-1bc1-4d39-b77a-b10640f56c72",
   "metadata": {},
   "outputs": [],
   "source": [
    "def extraire_sous_images_valeurs(image):\n",
    "    masque = ~np.isnan(image)\n",
    "    lignes_valides = np.any(masque, axis=1)\n",
    "    blocs_lignes = _detecter_blocs(lignes_valides)\n",
    "\n",
    "    sous_images = []\n",
    "\n",
    "    for i_start, i_end in blocs_lignes:\n",
    "        sous_ligne = image[i_start:i_end, :]\n",
    "        masque_col = ~np.isnan(sous_ligne)\n",
    "        colonnes_valides = np.any(masque_col, axis=0)\n",
    "        blocs_colonnes = _detecter_blocs(colonnes_valides)\n",
    "        \n",
    "        for j_start, j_end in blocs_colonnes:\n",
    "            bloc = image[i_start:i_end, j_start:j_end]\n",
    "            if not np.isnan(bloc).any():\n",
    "                sous_images.append((bloc.copy(), (i_start, j_start)))  # On copie pour éviter les effets de bord\n",
    "\n",
    "    return sous_images\n",
    "\n",
    "def _detecter_blocs(vecteur_binaire):\n",
    "    blocs = []\n",
    "    en_bloc = False\n",
    "    for i, val in enumerate(vecteur_binaire):\n",
    "        if val and not en_bloc:\n",
    "            debut = i\n",
    "            en_bloc = True\n",
    "        elif not val and en_bloc:\n",
    "            fin = i\n",
    "            blocs.append((debut, fin))\n",
    "            en_bloc = False\n",
    "    if en_bloc:\n",
    "        blocs.append((debut, len(vecteur_binaire)))\n",
    "    return blocs"
   ]
  },
  {
   "cell_type": "code",
   "execution_count": null,
   "id": "063b0df6-522d-45ba-8bd7-06a1ae62e75b",
   "metadata": {},
   "outputs": [],
   "source": [
    "sous_images = extraire_sous_images_valeurs(real)\n",
    "\n",
    "# for i, img in enumerate(sous_images):\n",
    "#     print(f\"Sous-image {i+1} (coordonnées):\")\n",
    "#     print(img)\n",
    "#     print()"
   ]
  },
  {
   "cell_type": "code",
   "execution_count": null,
   "id": "f531bf58-2cd8-4395-945a-97ff660535d9",
   "metadata": {},
   "outputs": [],
   "source": [
    "display.displayReal(real)\n",
    "display.displayReal(sous_images[2][0])"
   ]
  },
  {
   "cell_type": "code",
   "execution_count": null,
   "id": "6e1ab846-6a88-49a3-9d9d-ac1591bd4bbf",
   "metadata": {},
   "outputs": [],
   "source": [
    "sous_images[3][0].shape"
   ]
  },
  {
   "cell_type": "code",
   "execution_count": null,
   "id": "802702c3-20af-465c-ba4d-e44d673a1966",
   "metadata": {},
   "outputs": [],
   "source": [
    "yorigin, xorigin = sous_images[3][1]"
   ]
  },
  {
   "cell_type": "code",
   "execution_count": null,
   "id": "6a0c183f-bad2-4175-95f3-a631683c2e23",
   "metadata": {},
   "outputs": [],
   "source": [
    "xpos_sub = xpos - xorigin\n",
    "ypos_sub = ypos - yorigin"
   ]
  },
  {
   "cell_type": "code",
   "execution_count": null,
   "id": "18f0fbb0-d8c5-4e9d-959e-9fbf93857f09",
   "metadata": {},
   "outputs": [],
   "source": [
    "xpos_sub, ypos_sub"
   ]
  },
  {
   "cell_type": "code",
   "execution_count": null,
   "id": "cac2a0dc-6acb-4c6b-b77a-e4795766b8d8",
   "metadata": {},
   "outputs": [],
   "source": [
    "from scipy.stats import binned_statistic\n",
    "\n",
    "def profil_radial(image_sub, xpos_sub, ypos_sub, bins=50, bin_width=None):\n",
    "    hauteur, largeur = image_sub.shape\n",
    "    y_indices, x_indices = np.indices((hauteur, largeur))\n",
    "\n",
    "    # Distance radiale à chaque pixel\n",
    "    r = np.sqrt((x_indices - xpos_sub)**2 + (y_indices - ypos_sub)**2)\n",
    "    valeurs = image_sub.flatten()\n",
    "    r = r.flatten()\n",
    "\n",
    "    if bin_width is not None:\n",
    "        r_max = r.max()\n",
    "        bins_edges = np.arange(0, r_max + bin_width, bin_width)\n",
    "    else:\n",
    "        bins_edges = bins\n",
    "\n",
    "    # Moyenne des pixels dans chaque anneau\n",
    "    profil, edges, _ = binned_statistic(r, valeurs, statistic='mean', bins=bins_edges)\n",
    "\n",
    "    # Rayon moyen de chaque bin\n",
    "    r_centers = 0.5 * (edges[1:] + edges[:-1])\n",
    "\n",
    "    return r_centers, profil"
   ]
  },
  {
   "cell_type": "code",
   "execution_count": null,
   "id": "5d895aae-068c-48fe-8f64-8ca54c9c81f9",
   "metadata": {},
   "outputs": [],
   "source": [
    "r, profil = profil_radial(sous_images[3][0], xpos_sub, ypos_sub, bin_width=1.0)\n",
    "th = np.linspace\n",
    "plt.plot(r, profil)\n",
    "plt.xlabel(\"Rayon (pixels)\")\n",
    "plt.ylabel(\"Valeur moyenne\")\n",
    "#plt.yscale('log')\n",
    "plt.xlim(0, 40)\n",
    "#plt.ylim(900, 1500)\n",
    "plt.axhline(955.241, color=\"red\")\n",
    "plt.title(f\"Profil radial autour de ( {xpos_sub:.2f}, {ypos_sub:.2f} )\")\n",
    "plt.savefig('StarProfil', bbox_inches='tight')\n",
    "plt.show()"
   ]
  },
  {
   "cell_type": "code",
   "execution_count": null,
   "id": "231d0f9e-c639-4e15-b9ab-1e9b960317f9",
   "metadata": {},
   "outputs": [],
   "source": [
    "from scipy.optimize import curve_fit\n",
    "from scipy.ndimage import gaussian_filter1d\n",
    "\n",
    "def power_law_profile(r, A, r0, n, b):\n",
    "    return A / (1 + (r / r0)**n) + b\n",
    "\n",
    "r, profil = profil_radial(sous_images[3][0], xpos_sub, ypos_sub, bin_width=2)\n",
    "smoothed_profil = gaussian_filter1d(profil, sigma=1)\n",
    "popt, _ = curve_fit(power_law_profile, r, smoothed_profil, p0=[1e4, 5, 3, 950,])\n",
    "\n",
    "plt.plot(r, smoothed_profil)\n",
    "plt.plot(r, power_law_profile(r, *popt))\n",
    "plt.xlabel(\"Rayon (pixels)\")\n",
    "plt.ylabel(\"Valeur moyenne\")\n",
    "#plt.yscale('log')\n",
    "plt.xlim(0, 40)\n",
    "#plt.ylim(900, 1500)\n",
    "#plt.axhline(955.241, color=\"red\")\n",
    "plt.title(f\"Profil radial autour de ( {xpos_sub:.2f}, {ypos_sub:.2f} )\")\n",
    "plt.savefig('SmoothAndFit', bbox_inches='tight')\n",
    "plt.show()\n",
    "popt"
   ]
  },
  {
   "cell_type": "code",
   "execution_count": null,
   "id": "3c4975cf-ba38-4aba-b245-3000c45406e4",
   "metadata": {},
   "outputs": [],
   "source": [
    "I_norm = profil / np.max(profil)\n",
    "indice_rayon = np.where(I_norm < 0.5)[0][0]\n",
    "rayon_FWHM = r[indice_rayon]\n",
    "rayon_FWHM"
   ]
  },
  {
   "cell_type": "code",
   "execution_count": null,
   "id": "8831ca6f-df40-44bd-8f90-224e841eabb0",
   "metadata": {},
   "outputs": [],
   "source": [
    "sous_images[3][0].max()"
   ]
  },
  {
   "cell_type": "code",
   "execution_count": null,
   "id": "bbecc6a2-fff8-4831-8051-46f565ced6a4",
   "metadata": {},
   "outputs": [],
   "source": [
    "from scipy.signal import fftconvolve\n",
    "\n",
    "def star_disc(Nx, Ny, x_star, y_star, radius_pix, flux):\n",
    "    y, x = np.mgrid[0:Ny, 0:Nx]\n",
    "    r = np.sqrt((x - x_star)**2 + (y - y_star)**2)\n",
    "    mask = r <= radius_pix\n",
    "    image = np.zeros((Ny, Nx))\n",
    "    image[mask] = flux / mask.sum()  # uniform distrib\n",
    "    return image\n",
    "\n",
    "def star_gaussian(Nx, Ny, x_star, y_star, sigma_pix, flux, saturation_level=None):\n",
    "    y, x = np.mgrid[0:Ny, 0:Nx]\n",
    "    gauss = np.exp(-((x - x_star)**2 + (y - y_star)**2) / (2 * sigma_pix**2))\n",
    "    gauss /= gauss.sum()  # normalise l’énergie totale à 1\n",
    "    image = flux * gauss  # échelle par le flux total voulu\n",
    "\n",
    "    if saturation_level is not None:\n",
    "        image = np.minimum(image, saturation_level)  # impose un plafond de saturation\n",
    "        \n",
    "    return image\n",
    "    \n",
    "x_star, y_star = 286.87692047715433, 769.9001264140228\n",
    "rot = 77.89209882814671\n",
    "Ny, Nx = 1577, 1586\n",
    "flux = 2e7\n",
    "sigma_pix = 6.5\n",
    "radius_pix = 13\n",
    "saturation_level=85707.04\n",
    "\n",
    "# Création de la source (ex. disque)\n",
    "# source = star_disc(Nx, Ny, x_star, y_star, radius_pix, flux)\n",
    "source = star_gaussian(Nx, Ny, x_star, y_star, sigma_pix, flux, saturation_level)\n",
    "airy = gsim.getAiry(x_star, y_star , rot)\n",
    "# airy = gfit.applyGrid(real, airy)\n",
    "\n",
    "# airy = np.nan_to_num(airy, nan=0.0, posinf=0.0, neginf=0.0)\n",
    "simu = np.nan_to_num(hist, nan=0.0, posinf=0.0, neginf=0.0)\n",
    "\n",
    "# Convolution avec ta PSF\n",
    "image = fftconvolve(source, airy, mode='same')\n",
    "\n",
    "simu = image+1200.0*hist+950.0\n",
    "\n",
    "# Affichage\n",
    "plt.imshow(image, origin='lower', cmap='inferno')\n",
    "#plt.imshow(source/source.max())\n",
    "plt.title(\"Étoile étendue convoluée avec la PSF\")\n",
    "plt.colorbar(label=\"Intensité\")\n",
    "plt.show()\n",
    "\n",
    "display.displayReal(simu, name='TemplateWithAiry')\n",
    "#display.displayReal(real-image*1261.2136134010398*hist)"
   ]
  },
  {
   "cell_type": "code",
   "execution_count": null,
   "id": "2a97a03a-a119-4340-b362-c47ac859e18b",
   "metadata": {},
   "outputs": [],
   "source": [
    "sous_simu = extraire_sous_images_valeurs(simu)\n",
    "display.displayReal(sous_simu[3][0])"
   ]
  },
  {
   "cell_type": "code",
   "execution_count": null,
   "id": "174c096c-cc11-4f92-aa63-ec82f411f702",
   "metadata": {},
   "outputs": [],
   "source": [
    "r, profil = profil_radial(sous_simu[3][0], xpos_sub, ypos_sub, bin_width=2.0)\n",
    "smoothed_profil = gaussian_filter1d(profil, sigma=1)\n",
    "popt, _ = curve_fit(power_law_profile, r, smoothed_profil, p0=[1e4, 5, 3, 950])\n",
    "\n",
    "plt.plot(r, smoothed_profil)\n",
    "plt.plot(r, power_law_profile(r, *popt))\n",
    "plt.xlabel(\"Rayon (pixels)\")\n",
    "plt.ylabel(\"Valeur moyenne\")\n",
    "#plt.yscale('log')\n",
    "plt.xlim(0, 40)\n",
    "#plt.ylim(900, 1500)\n",
    "#plt.axhline(955.241, color=\"red\")\n",
    "plt.title(f\"Profil radial autour de ( {x_star:.2f}, {y_star:.2f} ) (Airy)\")\n",
    "plt.savefig('ProfilTemplate', bbox_inches='tight')\n",
    "plt.show()\n",
    "\n",
    "popt"
   ]
  },
  {
   "cell_type": "code",
   "execution_count": null,
   "id": "618fd5ff-a50e-4010-85b7-b58d77408547",
   "metadata": {},
   "outputs": [],
   "source": [
    "display.displaySub(sous_images[3][0][140:340, 185:385], starpos=(xpos_sub, ypos_sub), name='FixedPos')\n",
    "display.displaySub(sous_simu[3][0][140:340, 185:385], starpos=(xpos_sub, ypos_sub))\n",
    "display.displaySub(sous_images[3][0])"
   ]
  },
  {
   "cell_type": "code",
   "execution_count": null,
   "id": "06617feb-1425-4373-9c42-69de11b43004",
   "metadata": {},
   "outputs": [],
   "source": [
    "real2, simu2 = sim.removeSourcesBoth(real, simu)\n",
    "clean_airy, m_data_airy = gfit.testMinuit(real, simu)\n",
    "_, clean_airy2 = sim.removeSourcesBoth(real, clean_airy)\n",
    "display.displayFit2(real2, simu2, clean_airy, name='FitWithAiry')"
   ]
  },
  {
   "cell_type": "code",
   "execution_count": null,
   "id": "19ce5ca5-003a-4979-ac8b-2355ac642b01",
   "metadata": {},
   "outputs": [],
   "source": [
    "m_data_airy.values['amp'], m_data_airy.values['offset']"
   ]
  },
  {
   "cell_type": "code",
   "execution_count": null,
   "id": "05de462d-2829-4762-a21b-dae648db155f",
   "metadata": {},
   "outputs": [],
   "source": [
    "clean_airy = gfit.applyGrid(real, clean_airy)\n",
    "sous_clean = extraire_sous_images_valeurs(clean_airy)\n",
    "display.displaySub(sous_clean[3][0], name='ArtefactCCD')\n",
    "display.displaySub(sous_clean[3][0][140:340, 185:385], starpos=(xpos_sub, ypos_sub), name='ArtefactStar')"
   ]
  },
  {
   "cell_type": "code",
   "execution_count": null,
   "id": "8843792d-e592-4fad-b594-ba1404dd6c3d",
   "metadata": {},
   "outputs": [],
   "source": []
  }
 ],
 "metadata": {
  "kernelspec": {
   "display_name": "lsst_distrib",
   "language": "python",
   "name": "lsst_distrib"
  },
  "language_info": {
   "codemirror_mode": {
    "name": "ipython",
    "version": 3
   },
   "file_extension": ".py",
   "mimetype": "text/x-python",
   "name": "python",
   "nbconvert_exporter": "python",
   "pygments_lexer": "ipython3",
   "version": "3.12.11"
  }
 },
 "nbformat": 4,
 "nbformat_minor": 5
}
