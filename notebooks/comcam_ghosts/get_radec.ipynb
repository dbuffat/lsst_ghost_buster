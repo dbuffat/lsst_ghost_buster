{
 "cells": [
  {
   "cell_type": "markdown",
   "id": "975b0061-cf93-448a-a9b2-00bcd0a3bbc3",
   "metadata": {
    "execution": {
     "iopub.execute_input": "2025-04-14T12:57:12.904106Z",
     "iopub.status.busy": "2025-04-14T12:57:12.903842Z",
     "iopub.status.idle": "2025-04-14T12:57:12.906224Z",
     "shell.execute_reply": "2025-04-14T12:57:12.905895Z",
     "shell.execute_reply.started": "2025-04-14T12:57:12.904091Z"
    }
   },
   "source": [
    "# Test RA/DEC to pixels (good luck)"
   ]
  },
  {
   "cell_type": "code",
   "execution_count": 39,
   "id": "dc3a891c-7681-4453-b15a-7605d11773ac",
   "metadata": {
    "execution": {
     "iopub.execute_input": "2025-04-28T12:26:12.405290Z",
     "iopub.status.busy": "2025-04-28T12:26:12.405000Z",
     "iopub.status.idle": "2025-04-28T12:26:13.083447Z",
     "shell.execute_reply": "2025-04-28T12:26:13.082787Z",
     "shell.execute_reply.started": "2025-04-28T12:26:12.405275Z"
    }
   },
   "outputs": [
    {
     "name": "stdout",
     "output_type": "stream",
     "text": [
      "lsst_distrib          gc675d380bf+36629c4411 \tcurrent w_2025_09 setup\n"
     ]
    }
   ],
   "source": [
    "!eups list -s | grep lsst_distrib"
   ]
  },
  {
   "cell_type": "code",
   "execution_count": 40,
   "id": "2baadc74-ac4f-47f3-a80d-454e0b4545a2",
   "metadata": {
    "execution": {
     "iopub.execute_input": "2025-04-28T12:26:13.084808Z",
     "iopub.status.busy": "2025-04-28T12:26:13.084641Z",
     "iopub.status.idle": "2025-04-28T12:26:13.087768Z",
     "shell.execute_reply": "2025-04-28T12:26:13.087384Z",
     "shell.execute_reply.started": "2025-04-28T12:26:13.084789Z"
    }
   },
   "outputs": [],
   "source": [
    "from lsst.daf.butler import Butler\n",
    "import lsst.afw.display as afwDisplay"
   ]
  },
  {
   "cell_type": "code",
   "execution_count": 46,
   "id": "14790a5d-c572-43ec-a48f-10f3496f2649",
   "metadata": {
    "execution": {
     "iopub.execute_input": "2025-04-28T12:26:44.499013Z",
     "iopub.status.busy": "2025-04-28T12:26:44.498739Z",
     "iopub.status.idle": "2025-04-28T12:26:44.715239Z",
     "shell.execute_reply": "2025-04-28T12:26:44.714781Z",
     "shell.execute_reply.started": "2025-04-28T12:26:44.498999Z"
    }
   },
   "outputs": [],
   "source": [
    "# Define butler\n",
    "butler = Butler('embargo', collections=['LSSTComCam/nightlyValidation'])"
   ]
  },
  {
   "cell_type": "code",
   "execution_count": 47,
   "id": "43d2eaec-bf0f-4fc5-9ade-3adc8fdaa9ec",
   "metadata": {
    "execution": {
     "iopub.execute_input": "2025-04-28T12:26:45.590836Z",
     "iopub.status.busy": "2025-04-28T12:26:45.590509Z",
     "iopub.status.idle": "2025-04-28T12:26:45.593418Z",
     "shell.execute_reply": "2025-04-28T12:26:45.593007Z",
     "shell.execute_reply.started": "2025-04-28T12:26:45.590808Z"
    }
   },
   "outputs": [],
   "source": [
    "ra = 83.8146373714476\n",
    "dec = -33.0792104787991"
   ]
  },
  {
   "cell_type": "code",
   "execution_count": 42,
   "id": "0777101a-2726-4984-82dd-cd48efc594ec",
   "metadata": {
    "execution": {
     "iopub.execute_input": "2025-04-28T12:26:13.720864Z",
     "iopub.status.busy": "2025-04-28T12:26:13.720629Z",
     "iopub.status.idle": "2025-04-28T12:26:13.723169Z",
     "shell.execute_reply": "2025-04-28T12:26:13.722819Z",
     "shell.execute_reply.started": "2025-04-28T12:26:13.720849Z"
    }
   },
   "outputs": [],
   "source": [
    "star_coords = (ra, dec)"
   ]
  },
  {
   "cell_type": "code",
   "execution_count": 48,
   "id": "ebd3f36a-4375-4fe0-abdd-58afe6b7f7b5",
   "metadata": {
    "execution": {
     "iopub.execute_input": "2025-04-28T12:26:54.022523Z",
     "iopub.status.busy": "2025-04-28T12:26:54.022188Z",
     "iopub.status.idle": "2025-04-28T12:26:54.025479Z",
     "shell.execute_reply": "2025-04-28T12:26:54.025069Z",
     "shell.execute_reply.started": "2025-04-28T12:26:54.022496Z"
    }
   },
   "outputs": [],
   "source": [
    "registry = butler.registry"
   ]
  },
  {
   "cell_type": "code",
   "execution_count": 57,
   "id": "9c9c00f3-4120-45c3-9661-7a3fa375a33e",
   "metadata": {
    "execution": {
     "iopub.execute_input": "2025-04-28T12:29:54.055444Z",
     "iopub.status.busy": "2025-04-28T12:29:54.055249Z",
     "iopub.status.idle": "2025-04-28T12:29:54.058974Z",
     "shell.execute_reply": "2025-04-28T12:29:54.058521Z",
     "shell.execute_reply.started": "2025-04-28T12:29:54.055430Z"
    }
   },
   "outputs": [],
   "source": [
    "def getCentralWcs(expo=\"2024102400128\"):\n",
    "    calexp_refs = butler.query_datasets(\"calexp\", where=f\"instrument='LSSTComCam' AND exposure={expo}\")\n",
    "    return butler.get(calexp_refs[4]).getWcs()\n",
    "\n",
    "def getAllWcs(expo=\"2024102400128\"):\n",
    "    calexp_refs = butler.query_datasets(\"calexp\", where=f\"instrument='LSSTComCam' AND exposure={expo}\")\n",
    "    wcs_list = [butler.get(calexp_refs[i]).getWcs() for i in range(9)]\n",
    "    return wcs_list"
   ]
  },
  {
   "cell_type": "code",
   "execution_count": 58,
   "id": "2e6ce564-631d-4270-bd66-9f18decb1d66",
   "metadata": {
    "execution": {
     "iopub.execute_input": "2025-04-28T12:29:54.301806Z",
     "iopub.status.busy": "2025-04-28T12:29:54.301531Z",
     "iopub.status.idle": "2025-04-28T12:29:55.347956Z",
     "shell.execute_reply": "2025-04-28T12:29:55.347489Z",
     "shell.execute_reply.started": "2025-04-28T12:29:54.301781Z"
    }
   },
   "outputs": [
    {
     "name": "stdout",
     "output_type": "stream",
     "text": [
      "FITS standard SkyWcs:\n",
      "Sky Origin: (83.7653807994, -32.8617617202)\n",
      "Pixel Origin: (1960.03, 1935.62)\n",
      "Pixel Scale: 0.200309 arcsec/pixel\n",
      "Pixel coord: x = -2017.0990859725298, y = 1847.7723348209545\n",
      "\n"
     ]
    }
   ],
   "source": [
    "from lsst.geom import SpherePoint, degrees\n",
    "\n",
    "coords = SpherePoint(star_coords[0] * degrees, star_coords[1] * degrees)\n",
    "\n",
    "wcs = getCentralWcs(\"2024111100292\")\n",
    "print(wcs)\n",
    "pixel_coord = wcs.skyToPixel(coords)\n",
    "print(f\"Pixel coord: x = {pixel_coord.getX()}, y = {pixel_coord.getY()}\\n\") # Divide by 8.0 for binning\n"
   ]
  },
  {
   "cell_type": "code",
   "execution_count": 8,
   "id": "f2770137-83fb-4023-aafb-1677f5b45adb",
   "metadata": {
    "execution": {
     "iopub.execute_input": "2025-04-22T08:34:38.327123Z",
     "iopub.status.busy": "2025-04-22T08:34:38.326611Z",
     "iopub.status.idle": "2025-04-22T08:34:38.504563Z",
     "shell.execute_reply": "2025-04-22T08:34:38.504082Z",
     "shell.execute_reply.started": "2025-04-22T08:34:38.327106Z"
    }
   },
   "outputs": [],
   "source": [
    "camera = butler.get(\"camera\", collections=\"LSSTComCam/defaults\", instrument=\"LSSTComCam\")"
   ]
  },
  {
   "cell_type": "code",
   "execution_count": 9,
   "id": "2fd85562-e9b5-4d9f-8cce-a96bf860e3fe",
   "metadata": {
    "execution": {
     "iopub.execute_input": "2025-04-22T08:34:38.505437Z",
     "iopub.status.busy": "2025-04-22T08:34:38.505123Z",
     "iopub.status.idle": "2025-04-22T08:34:38.508388Z",
     "shell.execute_reply": "2025-04-22T08:34:38.508028Z",
     "shell.execute_reply.started": "2025-04-22T08:34:38.505421Z"
    }
   },
   "outputs": [
    {
     "data": {
      "text/plain": [
       "<bound method PyCapsule.findDetectors of <lsst.afw.cameraGeom.Camera object at 0x7fe025954e70>>"
      ]
     },
     "execution_count": 9,
     "metadata": {},
     "output_type": "execute_result"
    }
   ],
   "source": [
    "camera.findDetectors"
   ]
  },
  {
   "cell_type": "code",
   "execution_count": 60,
   "id": "7a9cf19e-e4d9-47b6-897c-3a1f4e9368c6",
   "metadata": {
    "execution": {
     "iopub.execute_input": "2025-04-28T12:39:35.060564Z",
     "iopub.status.busy": "2025-04-28T12:39:35.060368Z",
     "iopub.status.idle": "2025-04-28T12:39:35.064248Z",
     "shell.execute_reply": "2025-04-28T12:39:35.063823Z",
     "shell.execute_reply.started": "2025-04-28T12:39:35.060549Z"
    }
   },
   "outputs": [
    {
     "data": {
      "text/plain": [
       "(-497.1411357465662, -10.980958147380676)"
      ]
     },
     "execution_count": 60,
     "metadata": {},
     "output_type": "execute_result"
    }
   ],
   "source": [
    "dx = -2017.0990859725298 - 1960.03\n",
    "dy = 1847.7723348209545 - 1935.62\n",
    "dx/8.0, dy/8.0"
   ]
  },
  {
   "cell_type": "code",
   "execution_count": null,
   "id": "eb8d460a-dc41-44ae-b79a-6bd97822fd3a",
   "metadata": {},
   "outputs": [],
   "source": []
  }
 ],
 "metadata": {
  "kernelspec": {
   "display_name": "LSST",
   "language": "python",
   "name": "lsst"
  },
  "language_info": {
   "codemirror_mode": {
    "name": "ipython",
    "version": 3
   },
   "file_extension": ".py",
   "mimetype": "text/x-python",
   "name": "python",
   "nbconvert_exporter": "python",
   "pygments_lexer": "ipython3",
   "version": "3.12.11"
  }
 },
 "nbformat": 4,
 "nbformat_minor": 5
}
