{
 "cells": [
  {
   "cell_type": "markdown",
   "id": "0374021b-0716-4ff9-8236-e10be5a5d9cb",
   "metadata": {},
   "source": [
    "# Test LSSTGhostBuster package"
   ]
  },
  {
   "cell_type": "code",
   "execution_count": null,
   "id": "7d5c2935-7f69-40e1-a77b-f84dd2d6689c",
   "metadata": {},
   "outputs": [],
   "source": [
    "import sys\n",
    "import os\n",
    "sys.path.insert(0, os.path.abspath('../../src'))\n",
    "os.environ[\"OMP_NUM_THREADS\"] = \"8\" # export OMP_NUM_THREADS=8"
   ]
  },
  {
   "cell_type": "code",
   "execution_count": null,
   "id": "298b5a58-32e2-4d82-a6c1-b5b5b720cb5e",
   "metadata": {},
   "outputs": [],
   "source": [
    "from ghost_buster import display_image as display\n",
    "from ghost_buster import sources_image as sim\n",
    "from ghost_buster import ghosts_fit as gfit\n",
    "from ghost_buster import ghosts_simu as gsim"
   ]
  },
  {
   "cell_type": "code",
   "execution_count": null,
   "id": "2dff3b09-9b51-42b3-88e2-067dc0cb29d8",
   "metadata": {},
   "outputs": [],
   "source": [
    "import batoid\n",
    "import pylab as plt\n",
    "import numpy as np\n",
    "from scipy.optimize import curve_fit\n",
    "from scipy.ndimage import gaussian_filter1d\n",
    "\n",
    "import lsst.afw.display as afwDisplay\n",
    "import lsst.afw.image as afwimage\n",
    "import lsst.afw.fits as afwfits"
   ]
  },
  {
   "cell_type": "code",
   "execution_count": null,
   "id": "097ef6d4-4077-4b8f-8771-1c1a1bd78e9c",
   "metadata": {},
   "outputs": [],
   "source": [
    "ghost_292=afwimage.ImageF.readFits(\"ghost_292.fits\", 0)"
   ]
  },
  {
   "cell_type": "code",
   "execution_count": null,
   "id": "7a237e11-9d2e-4620-87ed-fe67f12eb20d",
   "metadata": {},
   "outputs": [],
   "source": [
    "display.displayImage(ghost_292, title=\"2024111100292\", name=\"asinh_postISR\")\n",
    "display.displayImageGhosts(ghost_292, zmin=850, zmax=1100, title=\"2024111100292\", name=\"linear_postISR\")\n",
    "display.displayImageGhostsBW(ghost_292, title=\"2024111100292\", name=\"asinh_bw_postISR\")"
   ]
  },
  {
   "cell_type": "code",
   "execution_count": null,
   "id": "cdcc2cec-dbc4-4256-97b1-73ec703692ff",
   "metadata": {},
   "outputs": [],
   "source": [
    "img_292 = ghost_292.getArray()\n",
    "md_292 = afwfits.readMetadata(\"ghost_292.fits\")\n",
    "md_292[\"RA\"], md_292[\"DEC\"], md_292[\"ROTPA\"], md_292[\"FILTBAND\"]"
   ]
  },
  {
   "cell_type": "raw",
   "id": "1a9435df-28e5-463d-81ac-4863d746df59",
   "metadata": {},
   "source": [
    "md_292"
   ]
  },
  {
   "cell_type": "code",
   "execution_count": null,
   "id": "871ae566-4b8f-40d0-b062-1d47100c4d9c",
   "metadata": {},
   "outputs": [],
   "source": [
    "display.displayImageGhostsFlux(img_292, minflux=920, maxflux=1020)\n",
    "display.displayReal(img_292)"
   ]
  },
  {
   "cell_type": "code",
   "execution_count": null,
   "id": "6bc26c5f-a7f9-431d-acc1-00310a91802f",
   "metadata": {},
   "outputs": [],
   "source": [
    "img_292_wtsrc = sim.removeSources(img_292)\n",
    "display.displayRemoveSources(img_292, img_292_wtsrc, name=\"detection\")\n",
    "img_292.shape"
   ]
  },
  {
   "cell_type": "code",
   "execution_count": null,
   "id": "e54c8158-1acc-4fbd-8e5d-3f977c8afa5f",
   "metadata": {},
   "outputs": [],
   "source": [
    "t, _ = gsim.getTransmissionRate(\"r\")\n",
    "t"
   ]
  },
  {
   "cell_type": "raw",
   "id": "a949a797-aafa-4540-949f-0f9b4ea81279",
   "metadata": {},
   "source": [
    "t = [0.9161211767619363, 0.9325552901066821, 0.9488600572853002, 0.9460909165535231, 0.890418147990185]"
   ]
  },
  {
   "cell_type": "code",
   "execution_count": null,
   "id": "70e29a0d-5056-4893-b051-0af2820b709f",
   "metadata": {},
   "outputs": [],
   "source": [
    "ComCam, wavelength = gsim.initTelescope(\"r\", t=t, wavelength=622.2)\n",
    "Params = gsim.initParams(thetapos=(-0.22494359089904253, -0.008266610482656549), rot=82.32264284072077, minflux=1e-3)\n",
    "# Params = gsim.initParams(thetapos=(-0.22095161588736276, -0.004880425843280288), rot=md_292[\"ROTPA\"])"
   ]
  },
  {
   "cell_type": "code",
   "execution_count": null,
   "id": "e15d6933-15fc-4274-a2b0-46496ecae424",
   "metadata": {},
   "outputs": [],
   "source": [
    "# x, y ,flux, paths = gsim.batoidCalcul(ComCam, Params, wavelength, debug=True)\n",
    "x, y, flux = gsim.getGhosts(ComCam, Params, wavelength, nbghost=5, ghostmap=True, name='ghosts_map', update_flux=True, debug=False)"
   ]
  },
  {
   "cell_type": "code",
   "execution_count": null,
   "id": "926a8223-dd9f-4ad3-a8f1-ccb444833891",
   "metadata": {},
   "outputs": [],
   "source": [
    "x, y = gsim.rotAfterBatoid(x, y, 82.32264284072077)\n",
    "# x, y = gsim.rotAfterBatoid(x, y, md_292[\"ROTPA\"])"
   ]
  },
  {
   "cell_type": "code",
   "execution_count": null,
   "id": "30ea582f-7119-490b-91a0-ee82760a825f",
   "metadata": {},
   "outputs": [],
   "source": [
    "px, py = ghost_292.getDimensions()[0], ghost_292.getDimensions()[1]\n",
    "Simu = gsim.getSimuImage(px, py, x, y, flux, binning=8, pixelsize=1e-5)\n",
    "Simu = gfit.applyGrid(img_292, Simu)"
   ]
  },
  {
   "cell_type": "code",
   "execution_count": null,
   "id": "b228ba35-d17c-4c24-bbe8-9dfbb50c88e2",
   "metadata": {},
   "outputs": [],
   "source": [
    "display.displaySimu(Simu, flux_update=True, name=\"first_tmp\")"
   ]
  },
  {
   "cell_type": "code",
   "execution_count": null,
   "id": "b3f37bf1-617f-44f5-bc9c-3a5bef8541d5",
   "metadata": {},
   "outputs": [],
   "source": [
    "clean, _ = gfit.fitGhosts(img_292, Simu)"
   ]
  },
  {
   "cell_type": "code",
   "execution_count": null,
   "id": "f0975d00-dbac-49dd-a121-dbda4c4d7e4a",
   "metadata": {},
   "outputs": [],
   "source": [
    "_, Simu_wtsrc = sim.removeSourcesBoth(img_292, Simu)\n",
    "_, artefacts = sim.removeSourcesBoth(img_292, clean)"
   ]
  },
  {
   "cell_type": "code",
   "execution_count": null,
   "id": "05dd267c-bccc-4745-b1d5-ad0ddb111359",
   "metadata": {},
   "outputs": [],
   "source": [
    "display.displayFitTest(img_292_wtsrc, Simu_wtsrc, artefacts, flux_update=True, name='NewestFit')"
   ]
  },
  {
   "cell_type": "code",
   "execution_count": null,
   "id": "64ece914-a93c-47ed-963b-f2758f1e09d7",
   "metadata": {},
   "outputs": [],
   "source": [
    "print(f\"Hist shape : {Simu.shape}\\nImage shape : {img_292.shape}\")"
   ]
  },
  {
   "cell_type": "code",
   "execution_count": null,
   "id": "a994bab8-fc14-44d7-8188-4009b9f4822c",
   "metadata": {},
   "outputs": [],
   "source": [
    "xpos, ypos = gsim.thetatopixel((1577, 1586), (-0.22494359089904253, -0.008266610482656549), 8)\n",
    "xpos, ypos"
   ]
  },
  {
   "cell_type": "code",
   "execution_count": null,
   "id": "f8f39597-d02e-48a6-b2d8-5456d962de4f",
   "metadata": {},
   "outputs": [],
   "source": [
    "display.displayRemoveSourcesAndArtefacts(img_292_wtsrc, artefacts)\n",
    "display.displayCutTest(img_292, xpos, ypos, name='cutout_img')\n",
    "display.displayCutTest(img_292_wtsrc, xpos, ypos, name='cutout_imgwtsrc')\n",
    "display.displayCutTest(artefacts, xpos, ypos, name='cutout_artefacts')"
   ]
  },
  {
   "cell_type": "code",
   "execution_count": null,
   "id": "ba8f0863-ca61-47cb-9c8f-db729e96cbd1",
   "metadata": {},
   "outputs": [],
   "source": [
    "display.displayReal(artefacts, name=\"all_artefacts\")"
   ]
  },
  {
   "cell_type": "code",
   "execution_count": null,
   "id": "cbb8ccec-6039-48d6-8281-aa4921bed9ab",
   "metadata": {},
   "outputs": [],
   "source": [
    "CCDs = gsim.ccd_extractor(img_292)"
   ]
  },
  {
   "cell_type": "code",
   "execution_count": null,
   "id": "ef1d3c3f-5b0a-42ea-8ba3-01692cf9fcfd",
   "metadata": {},
   "outputs": [],
   "source": [
    "display.displayReal(CCDs[3][0])"
   ]
  },
  {
   "cell_type": "code",
   "execution_count": null,
   "id": "39cef3b0-58fb-498f-a71a-4ebcafc741f4",
   "metadata": {},
   "outputs": [],
   "source": [
    "yorigin, xorigin = CCDs[3][1]\n",
    "xpos_sub = xpos - xorigin\n",
    "ypos_sub = ypos - yorigin\n",
    "\n",
    "xpos_sub, ypos_sub"
   ]
  },
  {
   "cell_type": "code",
   "execution_count": null,
   "id": "26f96f37-2ef7-4207-a67c-94f837e7801a",
   "metadata": {},
   "outputs": [],
   "source": [
    "r, profil = gfit.profil_radial(CCDs[3][0], (xpos_sub, ypos_sub), bin_width=1.0)\n",
    "r *= 8.0\n",
    "plt.plot(r, profil)\n",
    "plt.xlabel(\"Rayon (pixels)\")\n",
    "plt.ylabel(\"Valeur moyenne\")\n",
    "plt.yscale('log')\n",
    "plt.xlim(0, 300*8.0)\n",
    "plt.ylim(0, 80000)\n",
    "plt.axhline(955.241, color=\"red\")\n",
    "plt.title(f\"Profil radial autour de ( {xpos_sub:.2f}, {ypos_sub:.2f} )\")\n",
    "plt.savefig('profil')\n",
    "plt.show()"
   ]
  },
  {
   "cell_type": "code",
   "execution_count": null,
   "id": "87098eb4-4e09-44b1-af9f-f797816ca059",
   "metadata": {},
   "outputs": [],
   "source": [
    "def power_law_profile(r, A, r0, n, b):\n",
    "    return A / (1 + (r / r0)**n) + b\n",
    "\n",
    "r, profil = gfit.profil_radial(CCDs[3][0], (xpos_sub, ypos_sub), bin_width=2.0)\n",
    "smoothed_profil = gaussian_filter1d(profil, sigma=1)\n",
    "popt, _ = curve_fit(power_law_profile, r, smoothed_profil, p0=[1e4, 5, 3, 950,])\n",
    "\n",
    "plt.plot(r, smoothed_profil)\n",
    "plt.plot(r, power_law_profile(r, *popt))\n",
    "plt.xlabel(\"Rayon (pixels)\")\n",
    "plt.ylabel(\"Valeur moyenne\")\n",
    "plt.xscale('log')\n",
    "plt.xlim(1, 40)\n",
    "plt.ylim(800, 62000)\n",
    "#plt.axhline(955.241, color=\"red\")\n",
    "plt.title(f\"Profil radial autour de ( {xpos_sub:.2f}, {ypos_sub:.2f} )\")\n",
    "plt.show()\n",
    "\n",
    "print(f\"I_0 optimal    : {popt[0]:.2f}\")\n",
    "print(f\"r_0 optimal    : {popt[1]:.2f}\")\n",
    "print(f\"n optimal      : {popt[2]:.2f}\")\n",
    "print(f\"offset optimal : {popt[3]:.2f}\")"
   ]
  },
  {
   "cell_type": "code",
   "execution_count": null,
   "id": "c32049d8-9f5d-48ca-a097-073c3f38b4e8",
   "metadata": {},
   "outputs": [],
   "source": [
    "def courbe_croissance_empirique(image_sub, starpos, bin_width=1.0):\n",
    "    '''\n",
    "    \n",
    "    Calcule une courbe de croissance empirique (flux cumulé en fonction du rayon).\n",
    "\n",
    "    Parameters\n",
    "    ----------\n",
    "    image_sub : 2D array\n",
    "        Image contenant la source.\n",
    "    starpos : tuple\n",
    "        Position (x, y) de la source dans l'image.\n",
    "    bin_width : float\n",
    "        Largeur des bins en pixels.\n",
    "\n",
    "    Returns\n",
    "    -------\n",
    "    r_centers : array\n",
    "        Rayons (centres des bins).\n",
    "    flux_cum : array\n",
    "        Flux cumulé à chaque rayon.\n",
    "        \n",
    "    '''\n",
    "    \n",
    "    py, px = image_sub.shape\n",
    "    y, x = np.indices((py, px))\n",
    "    r = np.sqrt((x - starpos[0])**2 + (y - starpos[1])**2).flatten()\n",
    "    values = image_sub.flatten()\n",
    "\n",
    "    sorted_indices = np.argsort(r)\n",
    "    r_sorted = r[sorted_indices]\n",
    "    values_sorted = values[sorted_indices]\n",
    "\n",
    "    flux_cum = np.cumsum(values_sorted)\n",
    "\n",
    "    r_max = r_sorted.max()\n",
    "    r_edges = np.arange(0, r_max + bin_width, bin_width)\n",
    "    r_centers = 0.5 * (r_edges[:-1] + r_edges[1:])\n",
    "    \n",
    "    flux_binned = np.interp(r_centers, r_sorted, flux_cum)\n",
    "\n",
    "    return r_centers, flux_binned\n",
    "\n",
    "# Exemple de tracé\n",
    "r, flux = courbe_croissance_empirique(CCDs[3][0], (xpos_sub, ypos_sub))\n",
    "plt.plot(r*8.0, flux)\n",
    "plt.yscale('log')\n",
    "plt.xlabel(\"Radius (pixels)\")\n",
    "plt.ylabel(\"Cumulate flux (log)\")\n",
    "plt.title(\"Empirical curve-of-growth\")\n",
    "plt.savefig('growth')\n",
    "plt.show()\n"
   ]
  },
  {
   "cell_type": "markdown",
   "id": "8a26e04b-6fe1-488b-90ff-d81c9489c931",
   "metadata": {},
   "source": [
    "# Tests on sources_image.py"
   ]
  },
  {
   "cell_type": "code",
   "execution_count": null,
   "id": "9a2aa290-6dc0-4359-a0c4-8de2f6ade8ab",
   "metadata": {},
   "outputs": [],
   "source": [
    "catalog = sim.getCatalog(CCDs[1][0])\n",
    "display.displayReal(CCDs[1][0], name='CCD2')"
   ]
  },
  {
   "cell_type": "code",
   "execution_count": null,
   "id": "ee34d4fc-3b22-4321-b5fe-75bfa4590327",
   "metadata": {},
   "outputs": [],
   "source": [
    "x = catalog.xcentroid  # colonne x\n",
    "y = catalog.ycentroid  # colonne y\n",
    "\n",
    "positions = list(zip(x, y))"
   ]
  },
  {
   "cell_type": "raw",
   "id": "1bc359de-43f3-4104-93d0-8ab3ae923815",
   "metadata": {},
   "source": [
    "for i, pos in enumerate(positions):\n",
    "    r, profil = gfit.profil_radial(CCDs[1][0], pos, bin_width=1.0)\n",
    "    plt.plot(r, profil)\n",
    "    plt.xlabel(\"Rayon (pixels)\")\n",
    "    plt.ylabel(\"Valeur moyenne\")\n",
    "    #plt.yscale('log')\n",
    "    plt.xlim(0, 20)\n",
    "    #plt.ylim(900, 1500)\n",
    "    plt.axhline(955.241, color=\"red\")\n",
    "    plt.title(f\"Profil radial autour de ( {pos[0]:.2f}, {pos[1]:.2f} ), étoile {i}\")\n",
    "    plt.savefig('profil')\n",
    "    plt.show()"
   ]
  },
  {
   "cell_type": "code",
   "execution_count": null,
   "id": "81f660d1-e7f3-4df0-bccd-dd79eeae62b2",
   "metadata": {},
   "outputs": [],
   "source": [
    "pos = positions[27]\n",
    "r, profil = gfit.profil_radial(CCDs[1][0], pos, bin_width=1.0)\n",
    "plt.plot(r*8.0, profil)\n",
    "plt.xlabel(\"Rayon (pixels)\")\n",
    "plt.ylabel(\"Valeur moyenne\")\n",
    "plt.yscale('log')\n",
    "plt.xlim(0, 300*8.0)\n",
    "#plt.ylim(0, 1000)\n",
    "plt.axhline(955.241, color=\"red\")\n",
    "plt.title(f\"Profil radial autour de ( {pos[0]:.2f}, {pos[1]:.2f} )\")\n",
    "plt.savefig('profil2')\n",
    "plt.show()"
   ]
  },
  {
   "cell_type": "code",
   "execution_count": null,
   "id": "14962e3a-abaa-4894-b022-ecb184423299",
   "metadata": {},
   "outputs": [],
   "source": [
    "pos = positions[1]\n",
    "r, profil = gfit.profil_radial(CCDs[1][0], pos, bin_width=1.0)\n",
    "plt.plot(r, profil)\n",
    "plt.xlabel(\"Rayon (pixels)\")\n",
    "plt.ylabel(\"Valeur moyenne\")\n",
    "# plt.yscale('log')\n",
    "plt.xlim(0, 30)\n",
    "# plt.ylim(900, 1500)\n",
    "# plt.axhline(955.241, color=\"red\")\n",
    "plt.title(f\"Profil radial autour de ( {pos[0]:.2f}, {pos[1]:.2f} )\")\n",
    "plt.savefig('profil3')\n",
    "plt.show()"
   ]
  },
  {
   "cell_type": "code",
   "execution_count": null,
   "id": "79456301-f212-4b23-baa8-cd51ab4e77cb",
   "metadata": {},
   "outputs": [],
   "source": [
    "pos = positions[0]\n",
    "r, profil = gfit.profil_radial(CCDs[1][0], pos, bin_width=1.0)\n",
    "plt.plot(r, profil)\n",
    "plt.xlabel(\"Rayon (pixels)\")\n",
    "plt.ylabel(\"Valeur moyenne\")\n",
    "# plt.yscale('log')\n",
    "plt.xlim(0, 30)\n",
    "# plt.ylim(900, 1500)\n",
    "# plt.axhline(955.241, color=\"red\")\n",
    "plt.title(f\"Profil radial autour de ( {pos[0]:.2f}, {pos[1]:.2f} )\")\n",
    "plt.savefig('profil4')\n",
    "plt.show()"
   ]
  },
  {
   "cell_type": "code",
   "execution_count": null,
   "id": "bbb918d5-0016-4690-a401-5f46230cb410",
   "metadata": {},
   "outputs": [],
   "source": [
    "def cutoff(image_sub, pos, fov, name=None):\n",
    "    xpos = int(pos[0])\n",
    "    ypos = int(pos[1])\n",
    "    display.displayReal(image_sub[ypos-fov:ypos+fov, xpos-fov:xpos+fov], name)"
   ]
  },
  {
   "cell_type": "code",
   "execution_count": null,
   "id": "665788b5-c09d-4092-979d-9bbf563f1a29",
   "metadata": {},
   "outputs": [],
   "source": [
    "cutoff(CCDs[1][0], positions[34], fov=10)\n",
    "positions[34]"
   ]
  },
  {
   "cell_type": "code",
   "execution_count": null,
   "id": "7b695322-124a-4d43-9062-e4c7e9d46766",
   "metadata": {},
   "outputs": [],
   "source": [
    "len(catalog)"
   ]
  },
  {
   "cell_type": "code",
   "execution_count": null,
   "id": "04f3a232-6037-4427-846c-f36df2e978c5",
   "metadata": {},
   "outputs": [],
   "source": [
    "def cutoffTest(image_sub, pos, fov):\n",
    "    xpos = int(pos[0])\n",
    "    ypos = int(pos[1])\n",
    "    fig, ax = plt.subplots(nrows=1, ncols=1, figsize=(8, 8))\n",
    "    im = ax.imshow(image_sub[ypos-fov:ypos+fov, xpos-fov:xpos+fov], cmap='inferno', origin='lower', vmin=900, vmax=1200)"
   ]
  },
  {
   "cell_type": "code",
   "execution_count": null,
   "id": "6dd03c0d-271d-4d36-bb34-75017328b11f",
   "metadata": {},
   "outputs": [],
   "source": [
    "img_wt_src = sim.removeSources(img_292)\n",
    "CCDsWtSrc = gsim.ccd_extractor(img_wt_src)\n",
    "cutoffTest(CCDs[3][0], (xpos_sub, ypos_sub), fov=66)\n",
    "plt.savefig('Intern ghost')"
   ]
  },
  {
   "cell_type": "markdown",
   "id": "177a46df-3cb0-46cc-8ddb-7215660976ac",
   "metadata": {},
   "source": [
    "## Note pour Marc Moniez\n",
    "\n",
    "Besoin de regarder en full résolution pour voir les structures. Sinon tenter sur un autre ghost ou une autre étoile brillante (celle de mag 5 d'Aashay ??)"
   ]
  },
  {
   "cell_type": "code",
   "execution_count": null,
   "id": "4adc112f-8b59-45f8-9798-eefa0d6761b4",
   "metadata": {},
   "outputs": [],
   "source": [
    "test = gfit.applyGrid(img_292, artefacts)\n",
    "test = gsim.ccd_extractor(test)"
   ]
  },
  {
   "cell_type": "code",
   "execution_count": null,
   "id": "7d6fb945-2aad-4428-a94a-667a8510db40",
   "metadata": {},
   "outputs": [],
   "source": [
    "cutoff(test[3][0], (xpos_sub, ypos_sub), fov=150, name=\"zoom_artefacts\")"
   ]
  },
  {
   "cell_type": "code",
   "execution_count": null,
   "id": "1c3ccf07-ca14-42b8-88c4-0b677744377e",
   "metadata": {},
   "outputs": [],
   "source": [
    "display.displayRealTest(test[3][0], name='ccd_artefacts')"
   ]
  },
  {
   "cell_type": "markdown",
   "id": "bdaf2073-69b4-4f9e-a6b3-adfe5a34a730",
   "metadata": {},
   "source": [
    "## Test Cyril"
   ]
  },
  {
   "cell_type": "raw",
   "id": "97d836c4-ae1b-4602-8932-fa0a617ff08e",
   "metadata": {},
   "source": [
    "theta_x, theta_y = -0.22494359089904253, -0.008266610482656549\n",
    "xstar, ystar = gsim.thetatopixel(img_292.shape, (theta_x, theta_y), 8.0)\n",
    "xstarh, ystarh = xstar, ystar + 6.5\n",
    "xstard, ystard = xstar + 6.5, ystar\n",
    "theta_xh, theta_yh = gsim.pixeltotheta(img_292.shape, (xstarh, ystarh), 8.0)\n",
    "theta_xd, theta_yd = gsim.pixeltotheta(img_292.shape, (xstard, ystard), 8.0)"
   ]
  },
  {
   "cell_type": "raw",
   "id": "163bc640-0db8-4a19-8b88-e47153f29e99",
   "metadata": {},
   "source": [
    "Params = gsim.initParams(thetapos=(theta_x, theta_y), rot=82.32264284072077)\n",
    "x, y, flux = gsim.getGhosts(ComCam, Params, wavelength, nbghost=5, ghostmap=False)\n",
    "Params = gsim.initParams(thetapos=(theta_xh, theta_yh), rot=82.32264284072077)\n",
    "xh, yh, fluxh = gsim.getGhosts(ComCam, Params, wavelength, nbghost=5, ghostmap=False)\n",
    "Params = gsim.initParams(thetapos=(theta_xd, theta_yd), rot=82.32264284072077)\n",
    "xd, yd, fluxd = gsim.getGhosts(ComCam, Params, wavelength, nbghost=5, ghostmap=False)"
   ]
  },
  {
   "cell_type": "raw",
   "id": "3536fc23-47c7-427f-ad8a-0360b4236145",
   "metadata": {},
   "source": [
    "xl = [x, xd, xh]\n",
    "yl = [y, yd, yh]\n",
    "fl = [flux, fluxd, fluxh]"
   ]
  },
  {
   "cell_type": "raw",
   "id": "0c422f97-7d42-463c-b6b7-0a6183ca767e",
   "metadata": {},
   "source": [
    "x = np.concatenate([ix for ix in xl])\n",
    "y = np.concatenate([iy for iy in yl])\n",
    "flux = np.concatenate([iflux for iflux in fl])"
   ]
  },
  {
   "cell_type": "raw",
   "id": "e504a6dd-e28f-4dfd-a32a-7a5fa69d7659",
   "metadata": {},
   "source": [
    "x, y = gsim.rotAfterBatoid(x, y, 82.32264284072077)"
   ]
  },
  {
   "cell_type": "raw",
   "id": "05538813-a808-4e55-8ab3-45444ffeff1a",
   "metadata": {},
   "source": [
    "px, py = ghost_292.getDimensions()[0], ghost_292.getDimensions()[1]\n",
    "Simu = gsim.getSimuImage(px, py, x, y, flux, binning=8)\n",
    "Simu = gfit.applyGrid(img_292, Simu)"
   ]
  },
  {
   "cell_type": "raw",
   "id": "8401f71b-8aa1-4e13-8db3-f64bc1a41120",
   "metadata": {},
   "source": [
    "display.displaySimu(Simu)"
   ]
  },
  {
   "cell_type": "markdown",
   "id": "f6d13bf4-5157-4f4d-80ac-f3eb33569d79",
   "metadata": {},
   "source": [
    "## Test PSF"
   ]
  },
  {
   "cell_type": "code",
   "execution_count": null,
   "id": "75a9c0ab-8ae2-4bc1-99dd-46540ac68868",
   "metadata": {},
   "outputs": [],
   "source": [
    "psf=afwimage.ImageF.readFits(\"first_psf_image.fits\", 0)"
   ]
  },
  {
   "cell_type": "code",
   "execution_count": null,
   "id": "f42cb425-41c9-4126-a8e3-7fa9e7896457",
   "metadata": {},
   "outputs": [],
   "source": [
    "fig = plt.figure(figsize=(8, 8))\n",
    "afw_display = afwDisplay.Display(frame=fig)\n",
    "afw_display.scale('asinh', 'zscale')\n",
    "afw_display.mtv(psf)\n",
    "plt.xlabel('x (pix)')\n",
    "plt.ylabel('y (pix)')\n",
    "plt.gca().axis('on')\n",
    "plt.show()"
   ]
  },
  {
   "cell_type": "code",
   "execution_count": null,
   "id": "d69bfb3e-1296-49a0-a759-a5a2b236e581",
   "metadata": {},
   "outputs": [],
   "source": [
    "psf2=afwimage.ImageF.readFits(\"second_psf_image.fits\", 0)"
   ]
  },
  {
   "cell_type": "code",
   "execution_count": null,
   "id": "8551ab1b-96d4-477b-9c62-e07e89409240",
   "metadata": {},
   "outputs": [],
   "source": [
    "fig = plt.figure(figsize=(8, 8))\n",
    "afw_display = afwDisplay.Display(frame=fig)\n",
    "afw_display.scale('asinh', 'zscale')\n",
    "afw_display.mtv(psf2)\n",
    "plt.xlabel('x (pix)')\n",
    "plt.ylabel('y (pix)')\n",
    "plt.gca().axis('on')\n",
    "plt.savefig('psf_image')\n",
    "plt.show()"
   ]
  },
  {
   "cell_type": "markdown",
   "id": "21a2ee9d-455d-435e-90b6-5fc8e78c32fd",
   "metadata": {},
   "source": [
    "# Test Marc Moniez (diffraction des ghosts)"
   ]
  },
  {
   "cell_type": "code",
   "execution_count": null,
   "id": "4ed8394e-4c5a-4cab-90e4-a5fbbab72c9a",
   "metadata": {},
   "outputs": [],
   "source": [
    "ghost_full=afwimage.ImageF.readFits(\"ghost_292_full.fits\", 0)"
   ]
  },
  {
   "cell_type": "code",
   "execution_count": null,
   "id": "57e1c25c-e85b-4524-a717-e6b7b9e99d44",
   "metadata": {},
   "outputs": [],
   "source": [
    "img_full = ghost_full.getArray()\n",
    "md_full = afwfits.readMetadata(\"ghost_292_full.fits\")\n",
    "md_full[\"RA\"], md_full[\"DEC\"], md_full[\"ROTPA\"], md_full[\"FILTBAND\"]"
   ]
  },
  {
   "cell_type": "code",
   "execution_count": null,
   "id": "d5781ea1-f375-4bdb-afe7-ab45e085a5cb",
   "metadata": {},
   "outputs": [],
   "source": [
    "CCDsFull = gsim.ccd_extractor(img_full)"
   ]
  },
  {
   "cell_type": "code",
   "execution_count": null,
   "id": "fe42fc25-becb-44c3-b6d0-542be8846641",
   "metadata": {},
   "outputs": [],
   "source": [
    "display.displayImage(ghost_full, title=\"2024111100292\")\n",
    "display.displayReal(CCDsFull[3][0])"
   ]
  },
  {
   "cell_type": "code",
   "execution_count": null,
   "id": "7e2720ea-f02a-40b1-8f67-5cf924fd9e68",
   "metadata": {},
   "outputs": [],
   "source": [
    "cutoffTest(CCDsFull[3][0], (2200, 1800), fov=600)\n",
    "plt.savefig('ghosts_marc_full')"
   ]
  },
  {
   "cell_type": "code",
   "execution_count": null,
   "id": "44f41ba2-a6f9-4957-84fc-1407d8a5f82e",
   "metadata": {},
   "outputs": [],
   "source": [
    "ghost_054=afwimage.ImageF.readFits(\"ghost_054_full.fits\", 0)"
   ]
  },
  {
   "cell_type": "code",
   "execution_count": null,
   "id": "11657268-4a33-4731-92d1-191cd0c67519",
   "metadata": {},
   "outputs": [],
   "source": [
    "img_054 = ghost_054.getArray()\n",
    "md_054 = afwfits.readMetadata(\"ghost_054_full.fits\")\n",
    "md_054[\"RA\"], md_054[\"DEC\"], md_054[\"ROTPA\"], md_054[\"FILTBAND\"]"
   ]
  },
  {
   "cell_type": "code",
   "execution_count": null,
   "id": "68b38ca5-9fc1-4f5e-ae4c-1afd23f61b2d",
   "metadata": {},
   "outputs": [],
   "source": [
    "CCDs054 = gsim.ccd_extractor(img_054)"
   ]
  },
  {
   "cell_type": "code",
   "execution_count": null,
   "id": "1eda7f86-0dd3-4313-9aa4-7606a79f86e9",
   "metadata": {},
   "outputs": [],
   "source": [
    "display.displayReal(CCDs054[4][0])\n",
    "plt.savefig('ghosts2')\n",
    "cutoffTest(CCDs054[4][0], (3500, 2000), fov=700)\n",
    "plt.savefig('zoomghosts2')"
   ]
  },
  {
   "cell_type": "markdown",
   "id": "eaf5baee-f739-4b3d-8759-e0058cf00677",
   "metadata": {},
   "source": [
    "## Notes\n",
    "Besoin de faire un plot radial sur un ghost ex-centré de l'étoile\n",
    "\n",
    "$\\rightarrow$ Le but est de voir les ondulations des franges à l'intérieur du ghost\n",
    "\n",
    "Dans tout les cas, envoyer les résultats à Marc Moniez. Il est possible que le bruit + la queue de la PSF empèche de voir toutes les franges.\n",
    "\n",
    "Il faut aussi prendre en compte la résolution et la taille des pixels (0.2 arcsec/pixel et 10e-5 m/pixel) qui peuvent lisser les franges.\n",
    "\n",
    "Donc on aurait de franges au bords et une courbe lisse vers le centre."
   ]
  },
  {
   "cell_type": "code",
   "execution_count": null,
   "id": "dc6a0c3e-8290-43d2-a806-1520038d66bc",
   "metadata": {},
   "outputs": [],
   "source": []
  }
 ],
 "metadata": {
  "kernelspec": {
   "display_name": "lsst_distrib",
   "language": "python",
   "name": "lsst_distrib"
  },
  "language_info": {
   "codemirror_mode": {
    "name": "ipython",
    "version": 3
   },
   "file_extension": ".py",
   "mimetype": "text/x-python",
   "name": "python",
   "nbconvert_exporter": "python",
   "pygments_lexer": "ipython3",
   "version": "3.12.11"
  }
 },
 "nbformat": 4,
 "nbformat_minor": 5
}
