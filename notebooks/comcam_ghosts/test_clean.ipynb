{
 "cells": [
  {
   "cell_type": "code",
   "execution_count": null,
   "id": "24ea8ab1-fd99-450a-8151-0dcbf582e593",
   "metadata": {},
   "outputs": [],
   "source": [
    "import sys\n",
    "import os\n",
    "sys.path.insert(0, os.path.abspath('../../src'))\n",
    "os.environ[\"OMP_NUM_THREADS\"] = \"8\" # export OMP_NUM_THREADS=4"
   ]
  },
  {
   "cell_type": "code",
   "execution_count": null,
   "id": "791d2647-0b12-4d3e-807f-3ea705d93d80",
   "metadata": {},
   "outputs": [],
   "source": [
    "from ghost_buster import display_image as display\n",
    "from ghost_buster import sources_image as sim\n",
    "from ghost_buster import ghosts_corr as gcorr\n",
    "from ghost_buster import ghosts_fit as gfit\n",
    "from ghost_buster import ghosts_simu as gsim"
   ]
  },
  {
   "cell_type": "code",
   "execution_count": null,
   "id": "05ef73be-6a8e-4453-823f-b762292f9aea",
   "metadata": {},
   "outputs": [],
   "source": [
    "import pylab as plt\n",
    "import numpy as np\n",
    "import lsst.afw.display as afwDisplay\n",
    "import lsst.afw.image as afwimage\n",
    "import lsst.afw.fits as afwfits"
   ]
  },
  {
   "cell_type": "code",
   "execution_count": null,
   "id": "39044302-da7c-4d26-984e-30d37e764503",
   "metadata": {},
   "outputs": [],
   "source": [
    "ghost_292=afwimage.ImageF.readFits(\"ghost_292.fits\", 0)"
   ]
  },
  {
   "cell_type": "code",
   "execution_count": null,
   "id": "82c9b2d7-0895-4ac0-9bae-2ed26c22ac61",
   "metadata": {},
   "outputs": [],
   "source": [
    "display.displayImage(ghost_292, title=\"2024111100292\")\n",
    "display.displayImageGhosts(ghost_292, zmin=850, zmax=1100, title=\"2024111100292\")\n",
    "display.displayImageGhostsBW(ghost_292, title=\"2024111100292\")"
   ]
  },
  {
   "cell_type": "code",
   "execution_count": null,
   "id": "a9055aec-f5ed-4305-8387-79ad60657afb",
   "metadata": {},
   "outputs": [],
   "source": [
    "real = ghost_292.getArray()"
   ]
  },
  {
   "cell_type": "code",
   "execution_count": null,
   "id": "c7a9369d-757c-4a5c-8db9-3d072de5dcda",
   "metadata": {},
   "outputs": [],
   "source": [
    "display.displayImageGhostsFlux(real)\n",
    "display.displayReal(real)"
   ]
  },
  {
   "cell_type": "code",
   "execution_count": null,
   "id": "30580ffd-490a-46d0-844b-bb54d82d22a2",
   "metadata": {},
   "outputs": [],
   "source": [
    "md_292=afwfits.readMetadata(\"ghost_292.fits\")\n",
    "md_292[\"RA\"], md_292[\"DEC\"], md_292[\"ROTPA\"]"
   ]
  },
  {
   "cell_type": "code",
   "execution_count": null,
   "id": "22c109cb-71e4-4f14-b653-f27162341a7a",
   "metadata": {},
   "outputs": [],
   "source": [
    "rm_src = sim.removeSources(real)\n",
    "display.displayRemoveSources(real, rm_src)"
   ]
  },
  {
   "cell_type": "code",
   "execution_count": null,
   "id": "86b3aa99-2bdb-47ae-bfa4-4ab28b61a385",
   "metadata": {},
   "outputs": [],
   "source": [
    "catalog = sim.getCatalog(real)\n",
    "x_star, y_star = sim.getBrightnessCoord(catalog)"
   ]
  },
  {
   "cell_type": "code",
   "execution_count": null,
   "id": "5f45f27f-55fd-4600-ae53-4076eea8a847",
   "metadata": {},
   "outputs": [],
   "source": [
    "theta_x, theta_y = sim.getCoordBatoid(real)"
   ]
  },
  {
   "cell_type": "code",
   "execution_count": null,
   "id": "45fdb424-cfd6-4c7a-b8f5-367a6fd71ca4",
   "metadata": {},
   "outputs": [],
   "source": [
    "init_params = gsim.initParams(real, md_292, minflux=1e-5)"
   ]
  },
  {
   "cell_type": "code",
   "execution_count": null,
   "id": "638a01e7-76c4-4c39-bee4-ca83a2c18ee7",
   "metadata": {},
   "outputs": [],
   "source": [
    "telescope = gsim.initTelescope()"
   ]
  },
  {
   "cell_type": "code",
   "execution_count": null,
   "id": "391ab056-e399-4e03-9cae-56e96e217675",
   "metadata": {},
   "outputs": [],
   "source": [
    "x_sep, y_sep, flux_sep = gsim.batoidCalcul(telescope, init_params)"
   ]
  },
  {
   "cell_type": "code",
   "execution_count": null,
   "id": "da6125c0-582b-47fb-8e5d-487d27fd7558",
   "metadata": {},
   "outputs": [],
   "source": [
    "x_grp, y_grp, flux_grp = gsim.groupData(x_sep, y_sep, flux_sep)"
   ]
  },
  {
   "cell_type": "code",
   "execution_count": null,
   "id": "84dd9e76-7bd5-4b04-a79a-d96cdf157b82",
   "metadata": {},
   "outputs": [],
   "source": [
    "x_grp, y_grp = gsim.rotAfterBatoid(x_grp, y_grp, md_292)"
   ]
  },
  {
   "cell_type": "code",
   "execution_count": null,
   "id": "bab2f570-d047-4ead-9638-5f6e26d1f4c0",
   "metadata": {},
   "outputs": [],
   "source": [
    "px, py = ghost_292.getDimensions()[0], ghost_292.getDimensions()[1]\n",
    "hist, x_hist, y_hist = gsim.getSimuImage(px, py, x_grp, y_grp, flux_grp)\n",
    "hist = gfit.applyGrid(real, hist)"
   ]
  },
  {
   "cell_type": "code",
   "execution_count": null,
   "id": "cf31c5dd-a211-44c2-be2e-3d12c4212bef",
   "metadata": {},
   "outputs": [],
   "source": [
    "display.displaySimu(hist, x_hist, y_hist)"
   ]
  },
  {
   "cell_type": "code",
   "execution_count": null,
   "id": "96317d82-a67a-42f6-9a49-1efeff242a91",
   "metadata": {},
   "outputs": [],
   "source": [
    "print(f\"Hist shape : {hist.shape}\\nImage shape : {real.shape}\")"
   ]
  },
  {
   "cell_type": "code",
   "execution_count": null,
   "id": "8506a819-62ad-4b3b-8e47-91c85ced8a4d",
   "metadata": {},
   "outputs": [],
   "source": [
    "gfit.showNoise(real)"
   ]
  },
  {
   "cell_type": "code",
   "execution_count": null,
   "id": "6b8b3560-34f2-42b6-95ce-fe8abd1ad431",
   "metadata": {},
   "outputs": [],
   "source": [
    "clean = gfit.applyFit(real, hist)"
   ]
  },
  {
   "cell_type": "code",
   "execution_count": null,
   "id": "fbad9d10-c684-4a82-a019-1d470cd6acc4",
   "metadata": {},
   "outputs": [],
   "source": [
    "display.displayFit(real, hist, x_hist, y_hist, clean)"
   ]
  },
  {
   "cell_type": "markdown",
   "id": "5de3592c-3da0-4d67-b8e1-864181e6fbab",
   "metadata": {},
   "source": [
    "Ici, il ne reste plus qu'à faire les corrélations pour sélectionner les ghosts et recommence le fit + plot"
   ]
  },
  {
   "cell_type": "markdown",
   "id": "567a1154-626c-43a6-90be-cf16791136de",
   "metadata": {},
   "source": [
    "Je pense qu'à partir d'ici on peut se concentrer sur les méthodes de fit avant d'approfondir avec des fits aux ordres supérieurs."
   ]
  },
  {
   "cell_type": "code",
   "execution_count": null,
   "id": "18863ccb-6d35-494c-b9d9-f1e737a90818",
   "metadata": {},
   "outputs": [],
   "source": [
    "real2, hist2 = sim.removeSourcesBoth(real, hist)\n",
    "display.displayRemoveSourcesBoth(real2, hist2)"
   ]
  },
  {
   "cell_type": "code",
   "execution_count": null,
   "id": "4ff9d26e-b806-4cb7-bb4c-e8485a999596",
   "metadata": {},
   "outputs": [],
   "source": [
    "a = gfit.getFit(real2, hist2)[0]\n",
    "clean2 = gfit.applyFit2(real, hist, a)"
   ]
  },
  {
   "cell_type": "code",
   "execution_count": null,
   "id": "715830b0-1f30-49e1-983f-3dba5ce6095d",
   "metadata": {},
   "outputs": [],
   "source": [
    "display.displayFit(real, hist2, x_hist, y_hist, clean2)"
   ]
  },
  {
   "cell_type": "code",
   "execution_count": null,
   "id": "1cd33287-b9f4-4813-bd36-9f857cfb1449",
   "metadata": {},
   "outputs": [],
   "source": []
  }
 ],
 "metadata": {
  "kernelspec": {
   "display_name": "lsst_distrib",
   "language": "python",
   "name": "lsst_distrib"
  },
  "language_info": {
   "codemirror_mode": {
    "name": "ipython",
    "version": 3
   },
   "file_extension": ".py",
   "mimetype": "text/x-python",
   "name": "python",
   "nbconvert_exporter": "python",
   "pygments_lexer": "ipython3",
   "version": "3.12.9"
  }
 },
 "nbformat": 4,
 "nbformat_minor": 5
}
