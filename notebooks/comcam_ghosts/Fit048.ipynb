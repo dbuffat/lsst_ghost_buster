{
 "cells": [
  {
   "cell_type": "markdown",
   "id": "0374021b-0716-4ff9-8236-e10be5a5d9cb",
   "metadata": {},
   "source": [
    "# Test LSSTGhostBuster package"
   ]
  },
  {
   "cell_type": "code",
   "execution_count": null,
   "id": "7d5c2935-7f69-40e1-a77b-f84dd2d6689c",
   "metadata": {},
   "outputs": [],
   "source": [
    "import sys\n",
    "import os\n",
    "sys.path.insert(0, os.path.abspath('../../src'))\n",
    "os.environ[\"OMP_NUM_THREADS\"] = \"8\" # export OMP_NUM_THREADS=8"
   ]
  },
  {
   "cell_type": "code",
   "execution_count": null,
   "id": "298b5a58-32e2-4d82-a6c1-b5b5b720cb5e",
   "metadata": {},
   "outputs": [],
   "source": [
    "from ghost_buster import display_image as display\n",
    "from ghost_buster import sources_image as sim\n",
    "from ghost_buster import ghosts_fit as gfit\n",
    "from ghost_buster import ghosts_simu as gsim"
   ]
  },
  {
   "cell_type": "code",
   "execution_count": null,
   "id": "2dff3b09-9b51-42b3-88e2-067dc0cb29d8",
   "metadata": {},
   "outputs": [],
   "source": [
    "import pylab as plt\n",
    "import numpy as np\n",
    "from scipy.optimize import curve_fit\n",
    "from scipy.ndimage import gaussian_filter1d\n",
    "\n",
    "import lsst.afw.display as afwDisplay\n",
    "import lsst.afw.image as afwimage\n",
    "import lsst.afw.fits as afwfits"
   ]
  },
  {
   "cell_type": "code",
   "execution_count": null,
   "id": "097ef6d4-4077-4b8f-8771-1c1a1bd78e9c",
   "metadata": {},
   "outputs": [],
   "source": [
    "ghost_048=afwimage.ImageF.readFits(\"ghost_048.fits\", 0)"
   ]
  },
  {
   "cell_type": "code",
   "execution_count": null,
   "id": "7a237e11-9d2e-4620-87ed-fe67f12eb20d",
   "metadata": {},
   "outputs": [],
   "source": [
    "display.displayImage(ghost_048, title=\"2024111100048\")\n",
    "display.displayImageGhosts(ghost_048, zmin=400, zmax=800, title=\"2024111100048\")\n",
    "display.displayImageGhostsBW(ghost_048, title=\"2024111100048\")"
   ]
  },
  {
   "cell_type": "code",
   "execution_count": null,
   "id": "cdcc2cec-dbc4-4256-97b1-73ec703692ff",
   "metadata": {},
   "outputs": [],
   "source": [
    "img_048 = ghost_048.getArray()\n",
    "md_048 = afwfits.readMetadata(\"ghost_048.fits\")\n",
    "md_048[\"RA\"], md_048[\"DEC\"], md_048[\"ROTPA\"], md_048[\"FILTBAND\"]"
   ]
  },
  {
   "cell_type": "code",
   "execution_count": null,
   "id": "871ae566-4b8f-40d0-b062-1d47100c4d9c",
   "metadata": {},
   "outputs": [],
   "source": [
    "display.displayImageGhostsFlux(img_048, minflux=400, maxflux=800)\n",
    "display.displayReal(img_048)"
   ]
  },
  {
   "cell_type": "code",
   "execution_count": null,
   "id": "6bc26c5f-a7f9-431d-acc1-00310a91802f",
   "metadata": {},
   "outputs": [],
   "source": [
    "img_048_wtsrc = sim.removeSources(img_048)\n",
    "display.displayRemoveSources(img_048, img_048_wtsrc)\n",
    "img_048.shape"
   ]
  },
  {
   "cell_type": "code",
   "execution_count": null,
   "id": "e54c8158-1acc-4fbd-8e5d-3f977c8afa5f",
   "metadata": {},
   "outputs": [],
   "source": [
    "t, _ = gsim.getTransmissionRate(\"g\")\n",
    "t"
   ]
  },
  {
   "cell_type": "code",
   "execution_count": null,
   "id": "70e29a0d-5056-4893-b051-0af2820b709f",
   "metadata": {},
   "outputs": [],
   "source": [
    "ComCam, wavelength = gsim.initTelescope(\"g\")\n",
    "Params = gsim.initParams(thetapos=(-0.030448523671382042, 0.008756076320729538), rot=md_048[\"ROTPA\"])"
   ]
  },
  {
   "cell_type": "code",
   "execution_count": null,
   "id": "e15d6933-15fc-4274-a2b0-46496ecae424",
   "metadata": {},
   "outputs": [],
   "source": [
    "# x, y ,flux, paths = gsim.batoidCalcul(ComCam, Params, wavelength, debug=True)\n",
    "x, y, flux = gsim.getGhosts(ComCam, Params, wavelength, nbghost=10, ghostmap=True)"
   ]
  },
  {
   "cell_type": "code",
   "execution_count": null,
   "id": "926a8223-dd9f-4ad3-a8f1-ccb444833891",
   "metadata": {},
   "outputs": [],
   "source": [
    "x, y = gsim.rotAfterBatoid(x, y, md_054[\"ROTPA\"])"
   ]
  },
  {
   "cell_type": "code",
   "execution_count": null,
   "id": "30ea582f-7119-490b-91a0-ee82760a825f",
   "metadata": {},
   "outputs": [],
   "source": [
    "px, py = ghost_054.getDimensions()[0], ghost_048.getDimensions()[1]\n",
    "Simu = gsim.getSimuImage(px, py, x, y, flux, binning=8)\n",
    "Simu = gfit.applyGrid(img_048, Simu)"
   ]
  },
  {
   "cell_type": "code",
   "execution_count": null,
   "id": "b228ba35-d17c-4c24-bbe8-9dfbb50c88e2",
   "metadata": {},
   "outputs": [],
   "source": [
    "display.displaySimu(Simu)"
   ]
  },
  {
   "cell_type": "code",
   "execution_count": null,
   "id": "b3f37bf1-617f-44f5-bc9c-3a5bef8541d5",
   "metadata": {},
   "outputs": [],
   "source": [
    "clean, _ = gfit.fitGhosts(img_048, Simu)"
   ]
  },
  {
   "cell_type": "code",
   "execution_count": null,
   "id": "05dd267c-bccc-4745-b1d5-ad0ddb111359",
   "metadata": {},
   "outputs": [],
   "source": [
    "display.displayFit(img_048, Simu, clean)"
   ]
  },
  {
   "cell_type": "code",
   "execution_count": null,
   "id": "64ece914-a93c-47ed-963b-f2758f1e09d7",
   "metadata": {},
   "outputs": [],
   "source": [
    "print(f\"Hist shape : {Simu.shape}\\nImage shape : {img_048.shape}\")"
   ]
  },
  {
   "cell_type": "code",
   "execution_count": null,
   "id": "a994bab8-fc14-44d7-8188-4009b9f4822c",
   "metadata": {},
   "outputs": [],
   "source": [
    "xpos, ypos = gsim.thetatopixel((1577, 1586), (-0.030448523671382042, 0.008756076320729538), 8)\n",
    "xpos, ypos"
   ]
  },
  {
   "cell_type": "code",
   "execution_count": null,
   "id": "f8f39597-d02e-48a6-b2d8-5456d962de4f",
   "metadata": {},
   "outputs": [],
   "source": [
    "_, artefacts = sim.removeSourcesBoth(img_048, clean)\n",
    "display.displayRemoveSourcesAndArtefacts(img_048_wtsrc, artefacts)\n",
    "display.displayCut(img_048_wtsrc, xpos, ypos)\n",
    "display.displayCut(artefacts, xpos, ypos)"
   ]
  },
  {
   "cell_type": "code",
   "execution_count": null,
   "id": "cbb8ccec-6039-48d6-8281-aa4921bed9ab",
   "metadata": {},
   "outputs": [],
   "source": [
    "CCDs = gsim.ccd_extractor(img_048)"
   ]
  },
  {
   "cell_type": "code",
   "execution_count": null,
   "id": "ef1d3c3f-5b0a-42ea-8ba3-01692cf9fcfd",
   "metadata": {},
   "outputs": [],
   "source": [
    "display.displayReal(CCDs[4][0])"
   ]
  },
  {
   "cell_type": "code",
   "execution_count": null,
   "id": "39cef3b0-58fb-498f-a71a-4ebcafc741f4",
   "metadata": {},
   "outputs": [],
   "source": [
    "yorigin, xorigin = CCDs[4][1]\n",
    "xpos_sub = xpos - xorigin\n",
    "ypos_sub = ypos - yorigin"
   ]
  },
  {
   "cell_type": "code",
   "execution_count": null,
   "id": "26f96f37-2ef7-4207-a67c-94f837e7801a",
   "metadata": {},
   "outputs": [],
   "source": [
    "r, profil = gfit.profil_radial(CCDs[4][0], (xpos_sub, ypos_sub), bin_width=1.0)\n",
    "plt.plot(r, profil)\n",
    "plt.xlabel(\"Rayon (pixels)\")\n",
    "plt.ylabel(\"Valeur moyenne\")\n",
    "#plt.yscale('log')\n",
    "plt.xlim(0, 40)\n",
    "#plt.ylim(900, 1500)\n",
    "plt.axhline(955.241, color=\"red\")\n",
    "plt.title(f\"Profil radial autour de ( {xpos_sub:.2f}, {ypos_sub:.2f} )\")\n",
    "plt.savefig('profil')\n",
    "plt.show()"
   ]
  },
  {
   "cell_type": "code",
   "execution_count": null,
   "id": "87098eb4-4e09-44b1-af9f-f797816ca059",
   "metadata": {},
   "outputs": [],
   "source": [
    "def power_law_profile(r, A, r0, n, b):\n",
    "    return A / (1 + (r / r0)**n) + b\n",
    "\n",
    "r, profil = gfit.profil_radial(CCDs[4][0], (xpos_sub, ypos_sub), bin_width=2.0)\n",
    "smoothed_profil = gaussian_filter1d(profil, sigma=1)\n",
    "popt, _ = curve_fit(power_law_profile, r, smoothed_profil, p0=[1e4, 5, 3, 950,])\n",
    "\n",
    "plt.plot(r, smoothed_profil)\n",
    "plt.plot(r, power_law_profile(r, *popt))\n",
    "plt.xlabel(\"Rayon (pixels)\")\n",
    "plt.ylabel(\"Valeur moyenne\")\n",
    "#plt.yscale('log')\n",
    "plt.xlim(0, 40)\n",
    "#plt.ylim(900, 1500)\n",
    "#plt.axhline(955.241, color=\"red\")\n",
    "plt.title(f\"Profil radial autour de ( {xpos_sub:.2f}, {ypos_sub:.2f} )\")\n",
    "plt.show()\n",
    "\n",
    "print(f\"I_0 optimal    : {popt[0]:.2f}\")\n",
    "print(f\"r_0 optimal    : {popt[1]:.2f}\")\n",
    "print(f\"n optimal      : {popt[2]:.2f}\")\n",
    "print(f\"offset optimal : {popt[3]:.2f}\")"
   ]
  },
  {
   "cell_type": "code",
   "execution_count": null,
   "id": "a88acd7c-8742-46df-91eb-8d7bc7fb62d2",
   "metadata": {},
   "outputs": [],
   "source": []
  }
 ],
 "metadata": {
  "kernelspec": {
   "display_name": "lsst_distrib",
   "language": "python",
   "name": "lsst_distrib"
  },
  "language_info": {
   "codemirror_mode": {
    "name": "ipython",
    "version": 3
   },
   "file_extension": ".py",
   "mimetype": "text/x-python",
   "name": "python",
   "nbconvert_exporter": "python",
   "pygments_lexer": "ipython3",
   "version": "3.12.11"
  }
 },
 "nbformat": 4,
 "nbformat_minor": 5
}
